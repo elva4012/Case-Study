{
 "cells": [
  {
   "cell_type": "markdown",
   "metadata": {},
   "source": [
    "# The Battle of Neighborhoods- London Housing Market 2019 (Jan-May)\n",
    "##### By Elva Ma"
   ]
  },
  {
   "cell_type": "markdown",
   "metadata": {},
   "source": [
    "## 1. Background description "
   ]
  },
  {
   "cell_type": "markdown",
   "metadata": {},
   "source": [
    "Home price in London growth has been gradually slowing ever since the summer of 2016. A moribund market is preventing potential sellers from bringing their homes to the market and an ongoing decline in new instructions being listed for sale has intensified of late. A recent survey of U.K. residential property from the Royal Institution of Chartered Surveyors (RICS) concluded that Brexit is currently the main obstacle for market activity. And uncertainty over how the U.K. leaves the European Union was holding back both buyers and sellers of property. House prices may be continuing to fall with the number of new inquiries down for the eighth consecutive month, according to an industry survey."
   ]
  },
  {
   "cell_type": "markdown",
   "metadata": {},
   "source": [
    "## 2. Business Problem"
   ]
  },
  {
   "cell_type": "markdown",
   "metadata": {},
   "source": [
    "Suppose I am a professional real estate trading consultant, my clients come to my office and ask me how can I assist them to purchase a suitable real estate in London in this uncertain economic? What they can put their money on? \n"
   ]
  },
  {
   "cell_type": "markdown",
   "metadata": {},
   "source": [
    "## 3. Data Collection"
   ]
  },
  {
   "cell_type": "markdown",
   "metadata": {},
   "source": [
    "Price Paid Data includes information on all property sales in England and Wales that are sold for full market value and are lodged with registration. The files include standard and additional price paid data transactions received at HM Land Registry in the period from January 1st to May 31st in 2019 at https://www.gov.uk/government/statistical-data-sets/price-paid-data-downloads. The following fields comprise the address data included in Price Paid Data: Postcode; PAON Primary Addressable Object Name. Typically the house number or name; SAON Secondary Addressable Object Name. If there is a sub-building, for example, the building is divided into flats, there will be a SAON; Street; Locality; Town/City; District; County.\n",
    "\n",
    "To explore and target recommended locations across different venues according to the presence of amenities and essential facilities, we will access data through FourSquare API interface and arrange them as a data frame for visualization. By merging data on London properties and the relative price paid data from the HM Land Registry and data on amenities and essential facilities surrounding such properties from FourSquare API interface, we will be able to recommend profitable real estate investments."
   ]
  },
  {
   "cell_type": "markdown",
   "metadata": {},
   "source": [
    "## 4. Methodology"
   ]
  },
  {
   "cell_type": "markdown",
   "metadata": {},
   "source": [
    "Methodology section\n",
    "The Methodology section will describe the main components of our analysis and predication system. The Methodology section comprises four stages:\n",
    "\n",
    "1. Collect Data\n",
    "2. Explore and Understand Data\n",
    "3. Data preparation and preprocessing \n",
    "4. Modeling\n",
    "5. Cluster Streets"
   ]
  },
  {
   "cell_type": "markdown",
   "metadata": {},
   "source": [
    "## 5. Conclusion"
   ]
  }
 ],
 "metadata": {
  "kernelspec": {
   "display_name": "Python 3",
   "language": "python",
   "name": "python3"
  },
  "language_info": {
   "codemirror_mode": {
    "name": "ipython",
    "version": 3
   },
   "file_extension": ".py",
   "mimetype": "text/x-python",
   "name": "python",
   "nbconvert_exporter": "python",
   "pygments_lexer": "ipython3",
   "version": "3.7.3"
  }
 },
 "nbformat": 4,
 "nbformat_minor": 2
}
