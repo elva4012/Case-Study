{
 "cells": [
  {
   "cell_type": "markdown",
   "metadata": {},
   "source": [
    "# 3.0 Introduction\n",
    "\n",
    "#### Outline\n",
    "1. Population and Sample\n",
    "   * Introduce random sampling and sample\n",
    "\n",
    "\n",
    "2. Variation of Sample 样本方差\n",
    "   * Understand Distribution of Sample Mean\n",
    "\n",
    "\n",
    "3. Confidence Interval置信区间\n",
    "   * How to estimate using confidene interval\n",
    "\n",
    "\n",
    "4. Hypothesis Testing\n",
    "   * Validate Claims using Hypothesis Testing"
   ]
  },
  {
   "cell_type": "markdown",
   "metadata": {},
   "source": [
    "## 3.1 Populcation and sample\n",
    "\n",
    "**What is Poplulation?**\n",
    "* All registered voters in Thailand\n",
    "* All Hong Kong citizens who played golf at least once past year\n",
    "* All neurons in your brain\n",
    "\n",
    "**Sample**\n",
    "* Small group of members of a poplulation selected to represent to the population\n",
    "\n",
    "* Must be randomly selected \n",
    "\n",
    "Two Kinds of Sampling\n",
    "\n",
    "**1. Sampling without replacement**\n",
    "  * A populcation individual can be selected only one time\n",
    "  * Without putting it back to population\n",
    "  \n",
    "**2. Sampling with replacement**\n",
    "  * A randomly selected individual will be put back before the next one being selected\n",
    "  * A population element can be selected more than one time"
   ]
  },
  {
   "cell_type": "code",
   "execution_count": 44,
   "metadata": {},
   "outputs": [],
   "source": [
    "import pandas as pd\n",
    "import numpy as np\n",
    "from scipy.stats import norm\n",
    "%matplotlib inline"
   ]
  },
  {
   "cell_type": "code",
   "execution_count": 45,
   "metadata": {},
   "outputs": [],
   "source": [
    "data=pd.DataFrame()\n",
    "data['Population']=[47,48,85,20,19,13,72,16,50,60]"
   ]
  },
  {
   "cell_type": "code",
   "execution_count": 46,
   "metadata": {},
   "outputs": [
    {
     "data": {
      "text/plain": [
       "4    19\n",
       "0    47\n",
       "5    13\n",
       "7    16\n",
       "8    50\n",
       "Name: Population, dtype: int64"
      ]
     },
     "execution_count": 46,
     "metadata": {},
     "output_type": "execute_result"
    }
   ],
   "source": [
    "# Here False means without replacement\n",
    "a_sample_without_replacement=data['Population'].sample(5,replace=False)\n",
    "a_sample_without_replacement"
   ]
  },
  {
   "cell_type": "code",
   "execution_count": 47,
   "metadata": {},
   "outputs": [
    {
     "data": {
      "text/plain": [
       "0    47\n",
       "1    48\n",
       "8    50\n",
       "6    72\n",
       "2    85\n",
       "Name: Population, dtype: int64"
      ]
     },
     "execution_count": 47,
     "metadata": {},
     "output_type": "execute_result"
    }
   ],
   "source": [
    "# Here False means with replacement\n",
    "a_sample_with_replacement=data['Population'].sample(5,replace=True)\n",
    "a_sample_with_replacement"
   ]
  },
  {
   "cell_type": "markdown",
   "metadata": {},
   "source": [
    "Parameters| Statistics\n",
    "---:|---:\n",
    "Mean| Sample mean\n",
    "Variance| Sample Variance\n",
    "Standard deviation| Sample Standard deviation"
   ]
  },
  {
   "cell_type": "markdown",
   "metadata": {},
   "source": [
    "### Population"
   ]
  },
  {
   "cell_type": "code",
   "execution_count": 48,
   "metadata": {},
   "outputs": [
    {
     "name": "stdout",
     "output_type": "stream",
     "text": [
      "Population mean is 43.0\n",
      "Population variance is 571.8\n",
      "Population Standard deviation is 23.912339910598458\n",
      "Population size is 10\n"
     ]
    }
   ],
   "source": [
    "print('Population mean is', data['Population'].mean())\n",
    "print('Population variance is', data['Population'].var(ddof=0))\n",
    "print('Population Standard deviation is', data['Population'].std(ddof=0))\n",
    "print('Population size is', data['Population'].shape[0])"
   ]
  },
  {
   "cell_type": "markdown",
   "metadata": {},
   "source": [
    "### Sample"
   ]
  },
  {
   "cell_type": "code",
   "execution_count": 49,
   "metadata": {},
   "outputs": [],
   "source": [
    "a_sample=data['Population'].sample(10, replace=True)"
   ]
  },
  {
   "cell_type": "code",
   "execution_count": 50,
   "metadata": {},
   "outputs": [
    {
     "name": "stdout",
     "output_type": "stream",
     "text": [
      "Sample mean is 47.6\n",
      "Sample variance is 558.7111111111111\n",
      "Sample Standard deviation  is 23.63707069649518\n",
      "Sample size is 10\n"
     ]
    }
   ],
   "source": [
    "print('Sample mean is', a_sample.mean())\n",
    "print('Sample variance is', a_sample.var(ddof=1))\n",
    "print('Sample Standard deviation  is', a_sample.std(ddof=1))\n",
    "print('Sample size is', a_sample.shape[0])\n"
   ]
  },
  {
   "cell_type": "code",
   "execution_count": 51,
   "metadata": {},
   "outputs": [],
   "source": [
    "sample_length = 500\n",
    "sample_variance_collection0=[data['Population'].sample(50,\n",
    "                                                      replace=True).var(ddof=0)\n",
    "                            for i in range(sample_length)]\n",
    "\n",
    "sample_variance_collection1=[data['Population'].sample(50,\n",
    "                                                      replace=True).var(ddof=1)\n",
    "                            for i in range(sample_length)]"
   ]
  },
  {
   "cell_type": "code",
   "execution_count": 52,
   "metadata": {},
   "outputs": [
    {
     "name": "stdout",
     "output_type": "stream",
     "text": [
      "Population variance is 571.8\n",
      "Average of sample variance with n is 560.9845592\n",
      "Average of sample variance with n-1 is 572.2048971428572\n"
     ]
    }
   ],
   "source": [
    "print('Population variance is', data['Population'].var(ddof=0))\n",
    "\n",
    "print('Average of sample variance with n is',\n",
    "     pd.DataFrame(sample_variance_collection0)[0].mean())\n",
    "\n",
    "print('Average of sample variance with n-1 is',\n",
    "     pd.DataFrame(sample_variance_collection1)[0].mean())"
   ]
  },
  {
   "cell_type": "markdown",
   "metadata": {},
   "source": [
    "**On average, the average of estimator using division n-1 equals population variance**"
   ]
  },
  {
   "cell_type": "markdown",
   "metadata": {},
   "source": [
    "### Degrees of Freedom\n",
    "\n",
    "**The number of values in calculation that are free to variate**"
   ]
  },
  {
   "cell_type": "markdown",
   "metadata": {},
   "source": [
    "# Exercise"
   ]
  },
  {
   "cell_type": "code",
   "execution_count": 53,
   "metadata": {},
   "outputs": [
    {
     "name": "stdout",
     "output_type": "stream",
     "text": [
      "Sample mean is  43.0\n",
      "Sample variance is 943.7777777777778\n"
     ]
    }
   ],
   "source": [
    "# Calculate sample mean and sample standard deviation, size =10\n",
    "# You will get different mean and varince every time when you excecute the below code\n",
    "\n",
    "a_sample = data['Population'].sample(10, replace=True)\n",
    "sample_mean = a_sample.mean()\n",
    "sample_var = a_sample.var()\n",
    "print('Sample mean is ', sample_mean)\n",
    "print('Sample variance is', sample_var)"
   ]
  },
  {
   "cell_type": "markdown",
   "metadata": {},
   "source": [
    "#### Average of an unbiased estimator"
   ]
  },
  {
   "cell_type": "code",
   "execution_count": 54,
   "metadata": {},
   "outputs": [],
   "source": [
    "sample_length = 500\n",
    "sample_variance_collection=[data['Population'].sample(10, replace=True).var(ddof=1) for i in range(sample_length)]"
   ]
  },
  {
   "cell_type": "markdown",
   "metadata": {},
   "source": [
    "## 3.2 Variation of Sample 样品的变化\n",
    "\n",
    "#### Sample from normal distribution"
   ]
  },
  {
   "cell_type": "code",
   "execution_count": 55,
   "metadata": {},
   "outputs": [
    {
     "name": "stdout",
     "output_type": "stream",
     "text": [
      "Sample mean is 9.295613456297911\n",
      "Sample SD is 5.425756312021204\n"
     ]
    }
   ],
   "source": [
    "Fstsample= pd.DataFrame(np.random.normal(10,5,size=30))\n",
    "\n",
    "print('Sample mean is', Fstsample[0].mean())\n",
    "print('Sample SD is', Fstsample[0].std(ddof=1))"
   ]
  },
  {
   "cell_type": "markdown",
   "metadata": {},
   "source": [
    "**The results are almost different because the sample is random selected everytime runing**\n",
    "\n",
    "### Empirical distribution 经验分布 of sample mean and variance"
   ]
  },
  {
   "cell_type": "markdown",
   "metadata": {},
   "source": [
    "### What if the population is not normal?\n",
    "\n",
    "Central limit theorem 中心极限定理\n",
    "\n",
    "  * If the sample size is larger enough, the distribution of sample mean is approximately normal 如果样本量足够大，则样本均值的分布大致正常\n",
    "\n",
    "### Sampling from general distribution"
   ]
  },
  {
   "cell_type": "code",
   "execution_count": 56,
   "metadata": {},
   "outputs": [],
   "source": [
    "meanlist=[]\n",
    "varlist=[]\n",
    "for t in range(1000):\n",
    "    sample=pd.DataFrame(np.random.normal(10,5,size=30))\n",
    "    meanlist.append(sample[0].mean())\n",
    "    varlist.append(sample[0].var(ddof=1))\n",
    "\n",
    "collection=pd.DataFrame()\n",
    "collection['meanlist']=meanlist\n",
    "collection['varlist']=varlist"
   ]
  },
  {
   "cell_type": "code",
   "execution_count": 14,
   "metadata": {},
   "outputs": [
    {
     "name": "stderr",
     "output_type": "stream",
     "text": [
      "C:\\Users\\Elva\\Anaconda3\\lib\\site-packages\\pandas\\plotting\\_core.py:2477: MatplotlibDeprecationWarning: \n",
      "The 'normed' kwarg was deprecated in Matplotlib 2.1 and will be removed in 3.1. Use 'density' instead.\n",
      "  ax.hist(values, bins=bins, **kwds)\n"
     ]
    },
    {
     "data": {
      "text/plain": [
       "<matplotlib.axes._subplots.AxesSubplot at 0x26859ffd780>"
      ]
     },
     "execution_count": 14,
     "metadata": {},
     "output_type": "execute_result"
    },
    {
     "data": {
      "image/png": "[encoded data removed]",
      "text/plain": [
       "<Figure size 432x288 with 1 Axes>"
      ]
     },
     "metadata": {
      "needs_background": "light"
     },
     "output_type": "display_data"
    }
   ],
   "source": [
    "collection['meanlist'].hist(bins=500, normed=1)"
   ]
  },
  {
   "cell_type": "code",
   "execution_count": 57,
   "metadata": {},
   "outputs": [
    {
     "data": {
      "text/plain": [
       "<matplotlib.axes._subplots.AxesSubplot at 0x2685ecb5dd8>"
      ]
     },
     "execution_count": 57,
     "metadata": {},
     "output_type": "execute_result"
    },
    {
     "data": {
      "image/png": "[encoded data removed]",
      "text/plain": [
       "<Figure size 432x288 with 1 Axes>"
      ]
     },
     "metadata": {
      "needs_background": "light"
     },
     "output_type": "display_data"
    }
   ],
   "source": [
    "collection['varlist'].hist(bins=500, normed=1)"
   ]
  },
  {
   "cell_type": "markdown",
   "metadata": {},
   "source": [
    "**Comparing above two charts, we can mathematically prove that the sample mean has a normal distribution**\n",
    "\n",
    "<img src=\"https://raw.githubusercontent.com/elva4012/Python-and-Statistics-for-Financial-Analysis/master/1.png\" width=500>\n",
    "\n",
    "#### Demo in python- Population vs Empirical"
   ]
  },
  {
   "cell_type": "code",
   "execution_count": 58,
   "metadata": {},
   "outputs": [],
   "source": [
    "sample_size = 100\n",
    "samplemeanlist =[]\n",
    "apop= pd.DataFrame([1,0,1,0,1])\n",
    "for t in range(10000):\n",
    "    sample = apop[0].sample(100, replace=True) #small sample size\n",
    "    samplemeanlist.append(sample.mean())\n",
    "\n",
    "acollec= pd.DataFrame()\n",
    "acollec['meanlist']=samplemeanlist"
   ]
  },
  {
   "cell_type": "code",
   "execution_count": 59,
   "metadata": {},
   "outputs": [
    {
     "data": {
      "text/plain": [
       "array([[<matplotlib.axes._subplots.AxesSubplot object at 0x000002685D9BA4A8>]],\n",
       "      dtype=object)"
      ]
     },
     "execution_count": 59,
     "metadata": {},
     "output_type": "execute_result"
    },
    {
     "data": {
      "image/png": "[encoded data removed]",
      "text/plain": [
       "<Figure size 432x288 with 1 Axes>"
      ]
     },
     "metadata": {
      "needs_background": "light"
     },
     "output_type": "display_data"
    }
   ],
   "source": [
    "acollec.hist(bins=500, color='red', normed=1)"
   ]
  },
  {
   "cell_type": "markdown",
   "metadata": {},
   "source": [
    "## Exercise"
   ]
  },
  {
   "cell_type": "code",
   "execution_count": 60,
   "metadata": {},
   "outputs": [],
   "source": [
    "meanlist = []\n",
    "for t in range(10000):\n",
    "    sample = pd.DataFrame(np.random.normal(10, 5, size=30))\n",
    "    meanlist.append(sample[0].mean())"
   ]
  },
  {
   "cell_type": "code",
   "execution_count": 61,
   "metadata": {},
   "outputs": [],
   "source": [
    "collection = pd.DataFrame()\n",
    "collection['meanlist'] = meanlist"
   ]
  },
  {
   "cell_type": "code",
   "execution_count": 62,
   "metadata": {},
   "outputs": [
    {
     "data": {
      "text/plain": [
       "<matplotlib.axes._subplots.AxesSubplot at 0x2685f740550>"
      ]
     },
     "execution_count": 62,
     "metadata": {},
     "output_type": "execute_result"
    },
    {
     "data": {
      "image/png": "[encoded data removed]",
      "text/plain": [
       "<Figure size 1080x576 with 1 Axes>"
      ]
     },
     "metadata": {
      "needs_background": "light"
     },
     "output_type": "display_data"
    }
   ],
   "source": [
    "collection['meanlist'].hist(bins=100, normed=1,figsize=(15,8))"
   ]
  },
  {
   "cell_type": "markdown",
   "metadata": {},
   "source": [
    "#### Sampling from arbritary distribution"
   ]
  },
  {
   "cell_type": "code",
   "execution_count": 63,
   "metadata": {},
   "outputs": [
    {
     "data": {
      "text/plain": [
       "array([[<matplotlib.axes._subplots.AxesSubplot object at 0x000002685F840358>]],\n",
       "      dtype=object)"
      ]
     },
     "execution_count": 63,
     "metadata": {},
     "output_type": "execute_result"
    },
    {
     "data": {
      "image/png": "[encoded data removed]",
      "text/plain": [
       "<Figure size 1080x576 with 1 Axes>"
      ]
     },
     "metadata": {
      "needs_background": "light"
     },
     "output_type": "display_data"
    }
   ],
   "source": [
    "# See what central limit theorem tells you...the sample size is larger enough, \n",
    "# the distribution of sample mean is approximately normal\n",
    "# apop is not normal, but try to change the sample size from 100 to a larger number. The distribution of sample mean of apop \n",
    "# becomes normal.\n",
    "sample_size = 100\n",
    "samplemeanlist = []\n",
    "apop =  pd.DataFrame([1, 0, 1, 0, 1])\n",
    "for t in range(10000):\n",
    "    sample = apop[0].sample(sample_size, replace=True)  # small sample size\n",
    "    samplemeanlist.append(sample.mean())\n",
    "\n",
    "acollec = pd.DataFrame()\n",
    "acollec['meanlist'] = samplemeanlist\n",
    "acollec.hist(bins=100, normed=1,figsize=(15,8))"
   ]
  },
  {
   "cell_type": "markdown",
   "metadata": {},
   "source": [
    "## 3.3 Confidence Interval\n",
    "\n",
    "### Sample log return of Apple Stock"
   ]
  },
  {
   "cell_type": "code",
   "execution_count": 22,
   "metadata": {},
   "outputs": [
    {
     "name": "stderr",
     "output_type": "stream",
     "text": [
      "C:\\Users\\Elva\\Anaconda3\\lib\\site-packages\\ipykernel_launcher.py:1: FutureWarning: from_csv is deprecated. Please use read_csv(...) instead. Note that some of the default arguments are different, so please refer to the documentation for from_csv when changing your function calls\n",
      "  \"\"\"Entry point for launching an IPython kernel.\n"
     ]
    }
   ],
   "source": [
    "aapl=pd.DataFrame.from_csv(r'C:\\Users\\Elva\\Downloads\\AAPL.csv')"
   ]
  },
  {
   "cell_type": "code",
   "execution_count": 64,
   "metadata": {},
   "outputs": [
    {
     "data": {
      "text/plain": [
       "<matplotlib.axes._subplots.AxesSubplot at 0x2685fc0f7b8>"
      ]
     },
     "execution_count": 64,
     "metadata": {},
     "output_type": "execute_result"
    },
    {
     "data": {
      "image/png": "[encoded data removed]",
      "text/plain": [
       "<Figure size 1080x576 with 1 Axes>"
      ]
     },
     "metadata": {
      "needs_background": "light"
     },
     "output_type": "display_data"
    }
   ],
   "source": [
    "aapl['logReturn']=np.log(aapl['Close'].shift(-1))-np.log(aapl['Close'])\n",
    "\n",
    "aapl['logReturn'].hist(bins=100, normed=1,figsize=(15,8))"
   ]
  },
  {
   "cell_type": "markdown",
   "metadata": {},
   "source": [
    "If a sample is a good representative of the population, the population mean should be close to sample mean. It is plausible to say that the population mean is in a range with sample mean centered.\n",
    "<img src=\"https://raw.githubusercontent.com/elva4012/Python-and-Statistics-for-Financial-Analysis/master/2.png\" width=300>\n",
    "\n",
    "\n",
    "The task in this video is to estimate population mean using interval with lower and upper bound.\n",
    "<img src=\"https://raw.githubusercontent.com/elva4012/Python-and-Statistics-for-Financial-Analysis/master/3.png\" width=300>\n",
    "\n",
    "we need to standardize sample mean because different sample has different mean and a standard deviation\n",
    "<img src=\"https://raw.githubusercontent.com/elva4012/Python-and-Statistics-for-Financial-Analysis/master/4.png\" width=300>\n",
    "\n",
    "\n",
    "We can standardize sample mean by minus it's mean, which is identical to population mean and then divided by its standard deviation, which is the standard deviation of population divided by square root of sample size. \n",
    "<img src=\"https://raw.githubusercontent.com/elva4012/Python-and-Statistics-for-Financial-Analysis/master/5.png\"  width=300>\n",
    "\n",
    "After standardization, it'll become standard normal, and follows Z-distribution.\n",
    "\n",
    "<img src=\"https://raw.githubusercontent.com/elva4012/Python-and-Statistics-for-Financial-Analysis/master/6.png\" width=300>\n",
    "\n",
    "For Z-distribution, it is not difficult to find the two quantities; Z Alpha over two, and Z, one minus Alpha over two such that in the middle, the probability is one minus Alpha. We have Z_1 minus Alpha over two equal to negative Z Alpha over two. \n",
    "\n",
    "\n",
    "<img src=\"https://raw.githubusercontent.com/elva4012/Python-and-Statistics-for-Financial-Analysis/master/7.png\" width=300>\n",
    "\n",
    "Since the standardization form of sample mean is also Z, then we have this equation.\n",
    "\n",
    "With some calculation in the parenthesis, we can have this form, which explicitly gives the upper and lower bounds for population mean. Notice that Sigma is the population standard deviation, which is usually unknown.\n",
    "<img src=\"https://raw.githubusercontent.com/elva4012/Python-and-Statistics-for-Financial-Analysis/master/9.png\" width=300>\n",
    "\n",
    "The interval here, for Mu is called confidence interval at the level of one minus Alpha\n",
    "<img src=\"https://raw.githubusercontent.com/elva4012/Python-and-Statistics-for-Financial-Analysis/master/10.png\" width=300>"
   ]
  },
  {
   "cell_type": "code",
   "execution_count": 65,
   "metadata": {},
   "outputs": [],
   "source": [
    "aapl['logReturn']=np.log(aapl['Close'].shift(-1))-np.log(aapl['Close'])"
   ]
  },
  {
   "cell_type": "code",
   "execution_count": 66,
   "metadata": {},
   "outputs": [],
   "source": [
    "# Calues for calculating the 80% confidence interval\n",
    "z_left=norm.ppf(0.2)\n",
    "z_right=norm.ppf(0.8)\n",
    "sample_mean=aapl['logReturn'].mean()\n",
    "sample_std = aapl['logReturn'].std(ddof=1)/(aapl.shape[0])**0.5"
   ]
  },
  {
   "cell_type": "code",
   "execution_count": 67,
   "metadata": {},
   "outputs": [
    {
     "name": "stdout",
     "output_type": "stream",
     "text": [
      "Sample mean is 0.0005927329309565019\n",
      "*******************************************\n",
      "80% confidence interval are interval_left =  0.00022398835954511563 and interval_right = 0.0009614775023678883\n"
     ]
    }
   ],
   "source": [
    "interval_left=sample_mean+z_left*sample_std\n",
    "interval_right=sample_mean+z_right*sample_std\n",
    "print(\"Sample mean is\", sample_mean)\n",
    "print(\"*******************************************\")\n",
    "print(\"80% confidence interval are\", \n",
    "      \"interval_left = \", interval_left, \"and\", \n",
    "      \"interval_right =\", interval_right)"
   ]
  },
  {
   "cell_type": "markdown",
   "metadata": {},
   "source": [
    "* Average return of Apple stocks falls in this interval with 80 percent chance\n",
    "\n",
    "* Notice: this interval is on the **positive** side. it implies that the average return is very like to be positive. "
   ]
  },
  {
   "cell_type": "markdown",
   "metadata": {},
   "source": [
    "# Exercise"
   ]
  },
  {
   "cell_type": "code",
   "execution_count": 68,
   "metadata": {},
   "outputs": [],
   "source": [
    "import pandas as pd\n",
    "import numpy as np\n",
    "from scipy.stats import norm"
   ]
  },
  {
   "cell_type": "code",
   "execution_count": 69,
   "metadata": {},
   "outputs": [
    {
     "name": "stderr",
     "output_type": "stream",
     "text": [
      "C:\\Users\\Elva\\Anaconda3\\lib\\site-packages\\ipykernel_launcher.py:1: FutureWarning: from_csv is deprecated. Please use read_csv(...) instead. Note that some of the default arguments are different, so please refer to the documentation for from_csv when changing your function calls\n",
      "  \"\"\"Entry point for launching an IPython kernel.\n"
     ]
    },
    {
     "data": {
      "text/html": [
       "<div>\n",
       "<style scoped>\n",
       "    .dataframe tbody tr th:only-of-type {\n",
       "        vertical-align: middle;\n",
       "    }\n",
       "\n",
       "    .dataframe tbody tr th {\n",
       "        vertical-align: top;\n",
       "    }\n",
       "\n",
       "    .dataframe thead th {\n",
       "        text-align: right;\n",
       "    }\n",
       "</style>\n",
       "<table border=\"1\" class=\"dataframe\">\n",
       "  <thead>\n",
       "    <tr style=\"text-align: right;\">\n",
       "      <th></th>\n",
       "      <th>Open</th>\n",
       "      <th>High</th>\n",
       "      <th>Low</th>\n",
       "      <th>Close</th>\n",
       "      <th>Adj Close</th>\n",
       "      <th>Volume</th>\n",
       "    </tr>\n",
       "    <tr>\n",
       "      <th>Date</th>\n",
       "      <th></th>\n",
       "      <th></th>\n",
       "      <th></th>\n",
       "      <th></th>\n",
       "      <th></th>\n",
       "      <th></th>\n",
       "    </tr>\n",
       "  </thead>\n",
       "  <tbody>\n",
       "    <tr>\n",
       "      <th>2014-07-14</th>\n",
       "      <td>42.220001</td>\n",
       "      <td>42.450001</td>\n",
       "      <td>42.040001</td>\n",
       "      <td>42.139999</td>\n",
       "      <td>37.613037</td>\n",
       "      <td>21881100</td>\n",
       "    </tr>\n",
       "    <tr>\n",
       "      <th>2014-07-15</th>\n",
       "      <td>42.330002</td>\n",
       "      <td>42.470001</td>\n",
       "      <td>42.029999</td>\n",
       "      <td>42.450001</td>\n",
       "      <td>37.889740</td>\n",
       "      <td>28748700</td>\n",
       "    </tr>\n",
       "    <tr>\n",
       "      <th>2014-07-16</th>\n",
       "      <td>42.509998</td>\n",
       "      <td>44.310001</td>\n",
       "      <td>42.480000</td>\n",
       "      <td>44.080002</td>\n",
       "      <td>39.344639</td>\n",
       "      <td>63318000</td>\n",
       "    </tr>\n",
       "    <tr>\n",
       "      <th>2014-07-17</th>\n",
       "      <td>45.450001</td>\n",
       "      <td>45.709999</td>\n",
       "      <td>44.250000</td>\n",
       "      <td>44.529999</td>\n",
       "      <td>39.746288</td>\n",
       "      <td>82180300</td>\n",
       "    </tr>\n",
       "    <tr>\n",
       "      <th>2014-07-18</th>\n",
       "      <td>44.650002</td>\n",
       "      <td>44.840000</td>\n",
       "      <td>44.250000</td>\n",
       "      <td>44.689999</td>\n",
       "      <td>39.889099</td>\n",
       "      <td>43407500</td>\n",
       "    </tr>\n",
       "  </tbody>\n",
       "</table>\n",
       "</div>"
      ],
      "text/plain": [
       "                 Open       High        Low      Close  Adj Close    Volume\n",
       "Date                                                                       \n",
       "2014-07-14  42.220001  42.450001  42.040001  42.139999  37.613037  21881100\n",
       "2014-07-15  42.330002  42.470001  42.029999  42.450001  37.889740  28748700\n",
       "2014-07-16  42.509998  44.310001  42.480000  44.080002  39.344639  63318000\n",
       "2014-07-17  45.450001  45.709999  44.250000  44.529999  39.746288  82180300\n",
       "2014-07-18  44.650002  44.840000  44.250000  44.689999  39.889099  43407500"
      ]
     },
     "execution_count": 69,
     "metadata": {},
     "output_type": "execute_result"
    }
   ],
   "source": [
    "ms = pd.DataFrame.from_csv(r'C:\\Users\\Elva\\Downloads\\MSFT.csv')\n",
    "ms.head()"
   ]
  },
  {
   "cell_type": "markdown",
   "metadata": {},
   "source": [
    "### Estimate the average stock return with 90% Confidence Interval"
   ]
  },
  {
   "cell_type": "code",
   "execution_count": 70,
   "metadata": {},
   "outputs": [],
   "source": [
    "# we will use log return for average stock return of Microsoft\n",
    "\n",
    "ms['logReturn'] = np.log(ms['Close'].shift(-1)) - np.log(ms['Close'])"
   ]
  },
  {
   "cell_type": "code",
   "execution_count": 71,
   "metadata": {},
   "outputs": [],
   "source": [
    "# Lets build 90% confidence interval for log return\n",
    "sample_size = ms['logReturn'].shape[0]\n",
    "sample_mean = ms['logReturn'].mean()\n",
    "sample_std = ms['logReturn'].std(ddof=1) / sample_size**0.5\n",
    "\n",
    "# left and right quantile\n",
    "z_left=norm.ppf(0.1)\n",
    "z_right=norm.ppf(0.9)\n",
    "\n",
    "# upper and lower bound\n",
    "interval_left=sample_mean+z_left*sample_std\n",
    "interval_right=sample_mean+z_right*sample_std"
   ]
  },
  {
   "cell_type": "code",
   "execution_count": 72,
   "metadata": {},
   "outputs": [
    {
     "name": "stdout",
     "output_type": "stream",
     "text": [
      "90% confidence interval is  (0.0004171593212627399, 0.0014791154353638622)\n"
     ]
    }
   ],
   "source": [
    "# 90% confidence interval tells you that there will be 90% chance that the average stock return lies between \"interval_left\"\n",
    "# and \"interval_right\".\n",
    "\n",
    "print('90% confidence interval is ', (interval_left, interval_right))"
   ]
  },
  {
   "cell_type": "markdown",
   "metadata": {},
   "source": [
    "## 3.4.Hypothesis Testing\n",
    "\n",
    "Validate Claims using hypothesis\n",
    "\n",
    "Hypothesis testing can use sample information to test the validity of conjectures 猜想的有效性 about these parameters.\n",
    "\n",
    "In many situations, we need to demonstrate validity 证明有效性 of assertions. For example, you are a venture capitalist 风险投资家 and is proposed a project running 36 months.\n",
    "\n",
    "With 36 months data at hand, should you invest in this project? Suppose you will invest if average monthly profit is over 20,000. This question is not to ask you to estimate some parameters. Instead, you need to make a judgement whether the condition is satisfied. We need a new statistic tool, hypothesis testing.\n"
   ]
  },
  {
   "cell_type": "code",
   "execution_count": 73,
   "metadata": {},
   "outputs": [],
   "source": [
    "from matplotlib import pyplot as plt"
   ]
  },
  {
   "cell_type": "code",
   "execution_count": 74,
   "metadata": {},
   "outputs": [
    {
     "data": {
      "text/plain": [
       "[<matplotlib.lines.Line2D at 0x2685fc0fa20>]"
      ]
     },
     "execution_count": 74,
     "metadata": {},
     "output_type": "execute_result"
    },
    {
     "data": {
      "image/png": "[encoded data removed]",
      "text/plain": [
       "<Figure size 432x288 with 1 Axes>"
      ]
     },
     "metadata": {
      "needs_background": "light"
     },
     "output_type": "display_data"
    }
   ],
   "source": [
    "plt.title(\"Close Price of Apple from 2015 to 2019\", size=20)\n",
    "plt.xlabel(\"Time\", size=20)\n",
    "plt.ylabel(\"US $\", size=20)\n",
    "plt.plot(aapl.loc[:,'Close'])"
   ]
  },
  {
   "cell_type": "markdown",
   "metadata": {},
   "source": [
    "This is a daily close price of Apple from 2007 to 2018. It looks like the price is in an upward trend and we may guess the average of daily return is positive. However, if we plot the daily return directly, the daily return goes positive, negative. And our assertion that the average of daily return is positive is not obvious."
   ]
  },
  {
   "cell_type": "code",
   "execution_count": 75,
   "metadata": {},
   "outputs": [
    {
     "data": {
      "text/plain": [
       "<matplotlib.lines.Line2D at 0x268601b4278>"
      ]
     },
     "execution_count": 75,
     "metadata": {},
     "output_type": "execute_result"
    },
    {
     "data": {
      "image/png": "[encoded data removed]",
      "text/plain": [
       "<Figure size 432x288 with 1 Axes>"
      ]
     },
     "metadata": {
      "needs_background": "light"
     },
     "output_type": "display_data"
    }
   ],
   "source": [
    "plt.xlim(aapl.index[0],aapl.index[-1])\n",
    "plt.plot(aapl.loc[:,'logReturn'])\n",
    "plt.axhline(0,color='red')"
   ]
  },
  {
   "cell_type": "markdown",
   "metadata": {},
   "source": [
    "It is also not obvious whether the average of daily return is 0 or not. In the histogram daily return, it is approximately symmetric 近似对称 above 0. It is still not obvious whether the average daily return is different from 0. We want to use a quantitative statistical tool to make judgement about the assertion 断言 that the average daily return is not 0."
   ]
  },
  {
   "cell_type": "markdown",
   "metadata": {},
   "source": [
    "### Setting hypothesis\n",
    "\n",
    "* Null hypothesis 零假设 (the null is population mean, the average daily return is 0.)\n",
    "* Alternative hypothesis替代假设 (average daily return is not equal to 0)\n",
    "\n",
    "So, given that the null is correct, the difference between sample statistic, x-bar, and the population parameter mu cannot be very large. If it's significantly large, the null should be incorrect, and we should accept alternative.\n",
    "\n",
    "To measure the magnitude 大小 of difference, we also need to consider the standard deviation of the sample, because the sample with a large standard deviation usually its size is larger, here we need to do standardization标准化."
   ]
  },
  {
   "cell_type": "markdown",
   "metadata": {},
   "source": [
    "\n",
    "<img src=\"https://raw.githubusercontent.com/elva4012/Pictures/master/11.png\" width=300>\n",
    "\n",
    "**Null is not likely to be true.**\n",
    "* If we know population standard deviation, the standardized sample mean we denote as z-hat, and the z-distribution, \n",
    "* If population is normal, or it's sample size large.\n",
    "* If a z-hat is far away from 0, \n",
    "\n"
   ]
  },
  {
   "cell_type": "markdown",
   "metadata": {},
   "source": [
    "<img src=\"https://raw.githubusercontent.com/elva4012/Pictures/master/12.png\" width=300>\n",
    "\n",
    "In hypothesis testing, we start with assumption that the null is correct. Hence, we know population mean is equal to 0. But in most situations, population standard deviation is not known. Then we can replace population standard deviation with the sample standard deviation. Then this new term denoted as t-hat, has a new distribution, t-distribution.\n",
    "\n",
    "Similar to z-distribution, t is a symmetric with respect to 0 and a bell-shaped. The difference lies in the tail. T-distribution had flat tails which implies t has a higher chance to take the values in the two tails"
   ]
  },
  {
   "cell_type": "markdown",
   "metadata": {},
   "source": [
    "<img src=\"https://raw.githubusercontent.com/elva4012/Pictures/master/13.png\" width=300>\n",
    "\n",
    "The t-distribution is a dependent on the degree of freedom. In our example, the degree of freedom is equal to the degree of freedom of the sample standard deviation, which is n-1. As the sample size increases, the degree of freedom increases, and the t is more and more like z-distribution. So with a large sample, we can treat t as if it is a z-distribution.\n",
    "\n",
    "#### Standardization"
   ]
  },
  {
   "cell_type": "code",
   "execution_count": 76,
   "metadata": {},
   "outputs": [
    {
     "name": "stdout",
     "output_type": "stream",
     "text": [
      "1.3528514294366536\n"
     ]
    }
   ],
   "source": [
    "# X-bar is sample mean, average daily return. S is sample standard deviation, \n",
    "# n is a sample size.\n",
    "xbar= aapl['logReturn'].mean()\n",
    "s=aapl['logReturn'].std(ddof=1)\n",
    "n=aapl['logReturn'].shape[0]\n",
    "zhat=(xbar-0)/(s/(n**0.5))\n",
    "print(zhat)"
   ]
  },
  {
   "cell_type": "markdown",
   "metadata": {},
   "source": [
    "Z-hat equal to **1.353** It's a standardized statistics. We use mu equal to 0 because we assume the null is correct at the beginning\n",
    "\n",
    "If z-hat is different from 0 significantly, we can infer that this sample is not sampled for the population with mean equal to 0. Then, we can reject the null\n",
    "\n",
    "**How do we find the significance level?**\n",
    "<img src=\"https://raw.githubusercontent.com/elva4012/Pictures/master/14.png\" width=300>\n",
    "\n",
    "We use the probability on the two tails of a z-distribution. we fixed the significance level, for example, alpha equal to 5%, which is the probability for z to take the values of some demands of the two tails? We can see that these two demands is z less than -1.96 and z bigger 1.96.\n",
    "\n",
    "-1.96 and positive 1.96 are 2.5% and 97.5% quantiles of z. These two demands are called rejection regions and this kind of test is called **two-tailed test.**\n",
    "\n",
    "If statistic z-hat falls into rejection region, we can tell that statistics is far away from 0, significantly and then we can reject the null. Here, we should notice that z-hat is also possible to take values in rejection region even if the null is correct, and the mu equal to 0. This chance is equal to alpha 5%. In other words, we have a 5% chance to reject null wrongly. This is called a type 1 error, and the probability of a type 1 error is identical to the level of significance level.\n",
    "\n",
    "If a significance level is small, the probability of a type 1 error is smaller.\n",
    "\n",
    "### Set Decision Criteria"
   ]
  },
  {
   "cell_type": "code",
   "execution_count": 77,
   "metadata": {},
   "outputs": [
    {
     "name": "stdout",
     "output_type": "stream",
     "text": [
      "-1.9599639845400545 1.9599639845400545\n",
      "At the significance level of 0.05\n",
      "Shall we reject?: False\n"
     ]
    }
   ],
   "source": [
    "alpha=0.05\n",
    "zleft=norm.ppf(alpha/2,0,1)\n",
    "zright=-zleft\n",
    "print(zleft,zright)\n",
    "print('At the significance level of', alpha)\n",
    "print('Shall we reject?:', zhat>zright or zhat<zleft)"
   ]
  },
  {
   "cell_type": "markdown",
   "metadata": {},
   "source": [
    "we demonstrate how to get the quantiles which is also called critical values. Alpha equal to 5% is a given hence, norm.ppf can be applied to get the quantiles. In the print, we use a bold number to generate whether to reject or not directly.\n",
    "\n",
    "we will reject null hypothesis and the average daily return is not equal to 0. Our conclusion may be wrong but it happens only with 5% probability. We may want to further demonstrate that the average return is in fact positive. We need another kind of test, **one-tail test.**\n",
    "\n",
    "<img src=\"https://raw.githubusercontent.com/elva4012/Pictures/master/15.png\" width=300>\n",
    "\n",
    "In one tail test, the null is the average daily return is less than or equal to 0, which we are against. The alternative hypothesis, the average daily return is positive. \n",
    "\n",
    "\n",
    "<img src=\"https://raw.githubusercontent.com/elva4012/Pictures/master/16.png\" width=300>\n",
    "\n",
    "First, we take a mu equal to 0. We still need to standardize sample mean, which is average daily return in the sample.\n",
    "\n",
    "If z-hat is significantly large, which implies that sample mean is a positive comparing to mu equal to 0. Hence, it is not likely to be sampled from population, which may equal to 0. It is also not likely to be sampled from population with negative mu.\n",
    "\n",
    "Similarly, we fix significance level alpha, and identify rejection region using z-distribution, which is z-hat is larger than z-alpha.\n",
    "\n",
    "### Set Decision Criteria of One Tail Test"
   ]
  },
  {
   "cell_type": "code",
   "execution_count": 78,
   "metadata": {},
   "outputs": [
    {
     "name": "stdout",
     "output_type": "stream",
     "text": [
      "-1.9599639845400545 1.6448536269514722\n",
      "At the significance level of 0.05\n",
      "Shall we reject?: False\n"
     ]
    }
   ],
   "source": [
    "alpha=0.05\n",
    "zright=norm.ppf(1- alpha,0,1)\n",
    "\n",
    "print(zleft,zright)\n",
    "print('At the significance level of', alpha)\n",
    "print('Shall we reject?:', zhat>zright)"
   ]
  },
  {
   "cell_type": "markdown",
   "metadata": {},
   "source": [
    "We can show that the null is rejected under 5% It means that the average daily return of a population is indeed positive. we do need a quantitative statistic tool to validate our assertion in addition to visualize the data.\n",
    "\n",
    "<img src=\"https://raw.githubusercontent.com/elva4012/Pictures/master/17.png\" width=300>\n",
    "\n",
    "For population mean, we have these three kinds of hypothesis in the regression criteria. For different kinds of hypothesis, the criterion is different.\n",
    "\n",
    "A more popular way of testing is to compute p-value. We know that given that null is correct, standardized sample mean follows z-distribution.\n",
    "\n",
    "\n",
    "**What is the probability for this distribution to take a more extreme value than our observation in given sample?**\n",
    "<img src=\"https://raw.githubusercontent.com/elva4012/Pictures/master/18.png\" width=300>\n",
    "\n",
    "This is a p-value, if p is less than alpha which is a threshold, it means that the null is unlikely to be true.With p-value, we only need to compare it with alpha although the way to compute p is different.\n"
   ]
  },
  {
   "cell_type": "code",
   "execution_count": 79,
   "metadata": {},
   "outputs": [
    {
     "name": "stdout",
     "output_type": "stream",
     "text": [
      "At the significance level of  0.05\n",
      "Shall we reject: False\n"
     ]
    }
   ],
   "source": [
    "aplha=0.05\n",
    "p=1-(norm.cdf(abs(zhat),0,1))\n",
    "print('At the significance level of ', alpha)\n",
    "print('Shall we reject:', p<alpha)"
   ]
  },
  {
   "cell_type": "markdown",
   "metadata": {},
   "source": [
    "Here's a demonstration of p-value approach, in two-tailed test, abs is to compute the absolute value. We use norm.cdf to compute cumulative probability."
   ]
  },
  {
   "cell_type": "markdown",
   "metadata": {},
   "source": [
    "# Exercise-Hypothesis testing"
   ]
  },
  {
   "cell_type": "code",
   "execution_count": 80,
   "metadata": {},
   "outputs": [
    {
     "name": "stderr",
     "output_type": "stream",
     "text": [
      "UsageError: Line magic function `%` not found.\n"
     ]
    }
   ],
   "source": [
    "import pandas as pd\n",
    "import numpy as np\n",
    "from scipy.stats import norm\n",
    "import matplotlib.pyplot as plt\n",
    "% matplotlib inline"
   ]
  },
  {
   "cell_type": "code",
   "execution_count": 81,
   "metadata": {},
   "outputs": [
    {
     "name": "stderr",
     "output_type": "stream",
     "text": [
      "C:\\Users\\Elva\\Anaconda3\\lib\\site-packages\\ipykernel_launcher.py:2: FutureWarning: from_csv is deprecated. Please use read_csv(...) instead. Note that some of the default arguments are different, so please refer to the documentation for from_csv when changing your function calls\n",
      "  \n"
     ]
    }
   ],
   "source": [
    "# import microsoft.csv, and add a new feature - logreturn\n",
    "wbs = pd.DataFrame.from_csv(r'C:\\Users\\Elva\\Downloads\\WBS.csv')\n",
    "wbs['logReturn'] = np.log(wbs['Close'].shift(-1)) - np.log(wbs['Close'])"
   ]
  },
  {
   "cell_type": "code",
   "execution_count": 82,
   "metadata": {},
   "outputs": [
    {
     "data": {
      "image/png": "[encoded data removed]",
      "text/plain": [
       "<Figure size 1440x576 with 1 Axes>"
      ]
     },
     "metadata": {
      "needs_background": "light"
     },
     "output_type": "display_data"
    }
   ],
   "source": [
    "# Log return goes up and down during the period\n",
    "wbs['logReturn'].plot(figsize=(20, 8))\n",
    "plt.axhline(0, color='red')\n",
    "plt.show()"
   ]
  },
  {
   "cell_type": "markdown",
   "metadata": {},
   "source": [
    "### Steps involved in testing a claim by hypothesis testing\n",
    "\n",
    "#### Step 1: Set hypothesis\n",
    "\n",
    "$H_0 : \\mu = 0$\n",
    "$H_a : \\mu \\neq 0$\n",
    "\n",
    "H0 means the average stock return is 0\n",
    "H1 means the average stock return is not equal to 0\n",
    "\n",
    "#### Step 2: Calculate test statistic"
   ]
  },
  {
   "cell_type": "code",
   "execution_count": 83,
   "metadata": {},
   "outputs": [
    {
     "name": "stdout",
     "output_type": "stream",
     "text": [
      "1.3528514294366536\n"
     ]
    }
   ],
   "source": [
    "sample_mean = wbs['logReturn'].mean()\n",
    "sample_std = wbs['logReturn'].std(ddof=1)\n",
    "n = wbs['logReturn'].shape[0]\n",
    "\n",
    "# if sample size n is large enough, we can use z-distribution, instead of t-distribtuion\n",
    "# mu = 0 under the null hypothesis\n",
    "zhat=(xbar-0)/(s/(n**0.5))\n",
    "print(zhat)"
   ]
  },
  {
   "cell_type": "markdown",
   "metadata": {},
   "source": [
    "#### Step 3: Set desicion criteria"
   ]
  },
  {
   "cell_type": "code",
   "execution_count": 84,
   "metadata": {},
   "outputs": [
    {
     "name": "stdout",
     "output_type": "stream",
     "text": [
      "-0.6696267692801687\n"
     ]
    }
   ],
   "source": [
    "sample_mean = wbs['logReturn'].mean()\n",
    "sample_std = wbs['logReturn'].std(ddof=1)\n",
    "n = wbs['logReturn'].shape[0]\n",
    "\n",
    "# if sample size n is large enough, we can use z-distribution, instead of t-distribtuion\n",
    "# mu = 0 under the null hypothesis\n",
    "zhat = (sample_mean - 0)/(sample_std/n**0.5)\n",
    "print(zhat)"
   ]
  },
  {
   "cell_type": "code",
   "execution_count": 85,
   "metadata": {},
   "outputs": [
    {
     "name": "stdout",
     "output_type": "stream",
     "text": [
      "-1.9599639845400545 1.9599639845400545\n"
     ]
    }
   ],
   "source": [
    "# confidence level\n",
    "alpha = 0.05\n",
    "\n",
    "zleft = norm.ppf(alpha/2, 0, 1)\n",
    "zright = -zleft  # z-distribution is symmetric \n",
    "print(zleft, zright)"
   ]
  },
  {
   "cell_type": "markdown",
   "metadata": {},
   "source": [
    "#### Step 4: Make decision - shall we reject $H_0$?"
   ]
  },
  {
   "cell_type": "code",
   "execution_count": 86,
   "metadata": {},
   "outputs": [
    {
     "name": "stdout",
     "output_type": "stream",
     "text": [
      "At significant level of 0.05, shall we reject: False\n"
     ]
    }
   ],
   "source": [
    "print('At significant level of {}, shall we reject: {}'.format(alpha, zhat>zright or zhat<zleft))"
   ]
  },
  {
   "cell_type": "markdown",
   "metadata": {},
   "source": [
    "## One tail test\n",
    "\n",
    "**Step 1**\n",
    "\n",
    "$H_0 : \\mu \\leq 0$ \n",
    "$H_a : \\mu > 0$"
   ]
  },
  {
   "cell_type": "markdown",
   "metadata": {},
   "source": [
    "#### step 2"
   ]
  },
  {
   "cell_type": "code",
   "execution_count": 87,
   "metadata": {},
   "outputs": [
    {
     "name": "stdout",
     "output_type": "stream",
     "text": [
      "-0.6696267692801687\n"
     ]
    }
   ],
   "source": [
    "sample_mean = wbs['logReturn'].mean()\n",
    "sample_std = wbs['logReturn'].std(ddof=1)\n",
    "n = wbs['logReturn'].shape[0]\n",
    "\n",
    "# if sample size n is large enough, we can use z-distribution, instead of t-distribtuion\n",
    "# mu = 0 under the null hypothesis\n",
    "zhat = (sample_mean - 0)/(sample_std/n**0.5)\n",
    "\n",
    "print(zhat)"
   ]
  },
  {
   "cell_type": "markdown",
   "metadata": {},
   "source": [
    "#### Step 3"
   ]
  },
  {
   "cell_type": "code",
   "execution_count": 88,
   "metadata": {},
   "outputs": [
    {
     "name": "stdout",
     "output_type": "stream",
     "text": [
      "1.6448536269514722\n"
     ]
    }
   ],
   "source": [
    "alpha = 0.05\n",
    "\n",
    "zright = norm.ppf(1-alpha, 0, 1)\n",
    "print(zright)"
   ]
  },
  {
   "cell_type": "code",
   "execution_count": 89,
   "metadata": {},
   "outputs": [
    {
     "name": "stdout",
     "output_type": "stream",
     "text": [
      "At significant level of 0.05, shall we reject: False\n"
     ]
    }
   ],
   "source": [
    "# step 4\n",
    "print('At significant level of {}, shall we reject: {}'.format(alpha, zhat>zright))"
   ]
  },
  {
   "cell_type": "markdown",
   "metadata": {},
   "source": [
    "### An alternative method: p-value"
   ]
  },
  {
   "cell_type": "code",
   "execution_count": 90,
   "metadata": {},
   "outputs": [
    {
     "name": "stdout",
     "output_type": "stream",
     "text": [
      "At significant level of 0.05, shall we reject: False\n"
     ]
    }
   ],
   "source": [
    "# step 4\n",
    "print('At significant level of {}, shall we reject: {}'.format(alpha, p < alpha))# step 4"
   ]
  },
  {
   "cell_type": "code",
   "execution_count": 91,
   "metadata": {},
   "outputs": [
    {
     "name": "stdout",
     "output_type": "stream",
     "text": [
      "At significant level of 0.05, shall we reject: False\n"
     ]
    }
   ],
   "source": [
    "print('At significant level of {}, shall we reject: {}'.format(alpha, p < alpha))"
   ]
  }
 ],
 "metadata": {
  "kernelspec": {
   "display_name": "Python 3",
   "language": "python",
   "name": "python3"
  },
  "language_info": {
   "codemirror_mode": {
    "name": "ipython",
    "version": 3
   },
   "file_extension": ".py",
   "mimetype": "text/x-python",
   "name": "python",
   "nbconvert_exporter": "python",
   "pygments_lexer": "ipython3",
   "version": "3.7.3"
  }
 },
 "nbformat": 4,
 "nbformat_minor": 2
}
