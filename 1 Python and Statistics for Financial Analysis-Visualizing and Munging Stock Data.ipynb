{
 "cells": [
  {
   "cell_type": "markdown",
   "metadata": {},
   "source": [
    "# Visualizing and Munging Stock Data\n",
    "\n",
    "This is the practice notebook of Python and Statistics for Financial Analysis from Coursera.com"
   ]
  },
  {
   "cell_type": "markdown",
   "metadata": {},
   "source": [
    "## 1. Essential packages\n",
    "\n",
    "**Pandas** \n",
    "* Excellent data structure for time series data\n",
    "* Pre-process data easily with DateFrame\n",
    "\n",
    "**Numpy**\n",
    "* Array and matrix computing\n",
    "* Generate random numbers for shuffling data\n",
    "\n",
    "**Matplotlib**\n",
    "* Produces high quality figures\n",
    "\n",
    "**Statsmodels**\n",
    "* Modules for regression and time series analysis\n",
    "\n",
    "Pandas, Numpy, Matplotlib and Statsmodels are the 4 major packages that we are going to use in this course. You may want to get to know more about the software packages in the links below:\n",
    "\n",
    "pandas: https://pandas.pydata.org/about.html\n",
    "\n",
    "Numpy: http://www.numpy.org/\n",
    "\n",
    "Matplotlib: https://matplotlib.org/\n",
    "\n",
    "Statsmodels: https://www.statsmodels.org/stable/index.html"
   ]
  },
  {
   "cell_type": "markdown",
   "metadata": {},
   "source": [
    "## 2. Importing Data"
   ]
  },
  {
   "cell_type": "code",
   "execution_count": 41,
   "metadata": {},
   "outputs": [],
   "source": [
    "#import the packages \"Pandas\" and \"MatPlotLib\" into Jupyter Notebook\n",
    "import pandas as pd\n",
    "import matplotlib.pyplot as plt\n",
    "%matplotlib inline"
   ]
  },
  {
   "cell_type": "code",
   "execution_count": 43,
   "metadata": {},
   "outputs": [
    {
     "name": "stdout",
     "output_type": "stream",
     "text": [
      "<class 'pandas.core.frame.DataFrame'>\n",
      "DatetimeIndex: 1258 entries, 2014-07-14 to 2019-07-11\n",
      "Data columns (total 6 columns):\n",
      "Open         1258 non-null float64\n",
      "High         1258 non-null float64\n",
      "Low          1258 non-null float64\n",
      "Close        1258 non-null float64\n",
      "Adj Close    1258 non-null float64\n",
      "Volume       1258 non-null int64\n",
      "dtypes: float64(5), int64(1)\n",
      "memory usage: 68.8 KB\n"
     ]
    },
    {
     "name": "stderr",
     "output_type": "stream",
     "text": [
      "C:\\Users\\Elva\\Anaconda3\\lib\\site-packages\\ipykernel_launcher.py:1: FutureWarning: from_csv is deprecated. Please use read_csv(...) instead. Note that some of the default arguments are different, so please refer to the documentation for from_csv when changing your function calls\n",
      "  \"\"\"Entry point for launching an IPython kernel.\n"
     ]
    }
   ],
   "source": [
    "fb=pd.DataFrame.from_csv(r'C:\\Users\\Elva\\Downloads\\FB.csv')\n",
    "fb.info()"
   ]
  },
  {
   "cell_type": "code",
   "execution_count": 44,
   "metadata": {},
   "outputs": [
    {
     "name": "stdout",
     "output_type": "stream",
     "text": [
      "67.129997\n"
     ]
    }
   ],
   "source": [
    "# run this cell to ensure FB's stock data is imported\n",
    "print(fb.iloc[0, 0])"
   ]
  },
  {
   "cell_type": "code",
   "execution_count": 86,
   "metadata": {},
   "outputs": [
    {
     "name": "stdout",
     "output_type": "stream",
     "text": [
      "42.220001\n"
     ]
    }
   ],
   "source": [
    "# run this cell to ensure MS's stock data is imported\n",
    "print(ms.iloc[0, 0])"
   ]
  },
  {
   "cell_type": "markdown",
   "metadata": {},
   "source": [
    "## 3. Basics of DataFrame"
   ]
  },
  {
   "cell_type": "code",
   "execution_count": 45,
   "metadata": {},
   "outputs": [
    {
     "data": {
      "text/html": [
       "<div>\n",
       "<style scoped>\n",
       "    .dataframe tbody tr th:only-of-type {\n",
       "        vertical-align: middle;\n",
       "    }\n",
       "\n",
       "    .dataframe tbody tr th {\n",
       "        vertical-align: top;\n",
       "    }\n",
       "\n",
       "    .dataframe thead th {\n",
       "        text-align: right;\n",
       "    }\n",
       "</style>\n",
       "<table border=\"1\" class=\"dataframe\">\n",
       "  <thead>\n",
       "    <tr style=\"text-align: right;\">\n",
       "      <th></th>\n",
       "      <th>Open</th>\n",
       "      <th>High</th>\n",
       "      <th>Low</th>\n",
       "      <th>Close</th>\n",
       "      <th>Adj Close</th>\n",
       "      <th>Volume</th>\n",
       "    </tr>\n",
       "    <tr>\n",
       "      <th>Date</th>\n",
       "      <th></th>\n",
       "      <th></th>\n",
       "      <th></th>\n",
       "      <th></th>\n",
       "      <th></th>\n",
       "      <th></th>\n",
       "    </tr>\n",
       "  </thead>\n",
       "  <tbody>\n",
       "    <tr>\n",
       "      <th>2014-07-14</th>\n",
       "      <td>67.129997</td>\n",
       "      <td>68.169998</td>\n",
       "      <td>66.900002</td>\n",
       "      <td>67.900002</td>\n",
       "      <td>67.900002</td>\n",
       "      <td>38537000</td>\n",
       "    </tr>\n",
       "    <tr>\n",
       "      <th>2014-07-15</th>\n",
       "      <td>67.959999</td>\n",
       "      <td>68.089996</td>\n",
       "      <td>66.260002</td>\n",
       "      <td>67.169998</td>\n",
       "      <td>67.169998</td>\n",
       "      <td>44213200</td>\n",
       "    </tr>\n",
       "    <tr>\n",
       "      <th>2014-07-16</th>\n",
       "      <td>67.540001</td>\n",
       "      <td>67.940002</td>\n",
       "      <td>67.070000</td>\n",
       "      <td>67.660004</td>\n",
       "      <td>67.660004</td>\n",
       "      <td>29541600</td>\n",
       "    </tr>\n",
       "    <tr>\n",
       "      <th>2014-07-17</th>\n",
       "      <td>67.029999</td>\n",
       "      <td>67.849998</td>\n",
       "      <td>66.040001</td>\n",
       "      <td>66.410004</td>\n",
       "      <td>66.410004</td>\n",
       "      <td>38188000</td>\n",
       "    </tr>\n",
       "    <tr>\n",
       "      <th>2014-07-18</th>\n",
       "      <td>66.800003</td>\n",
       "      <td>68.459999</td>\n",
       "      <td>66.160004</td>\n",
       "      <td>68.419998</td>\n",
       "      <td>68.419998</td>\n",
       "      <td>42456000</td>\n",
       "    </tr>\n",
       "  </tbody>\n",
       "</table>\n",
       "</div>"
      ],
      "text/plain": [
       "                 Open       High        Low      Close  Adj Close    Volume\n",
       "Date                                                                       \n",
       "2014-07-14  67.129997  68.169998  66.900002  67.900002  67.900002  38537000\n",
       "2014-07-15  67.959999  68.089996  66.260002  67.169998  67.169998  44213200\n",
       "2014-07-16  67.540001  67.940002  67.070000  67.660004  67.660004  29541600\n",
       "2014-07-17  67.029999  67.849998  66.040001  66.410004  66.410004  38188000\n",
       "2014-07-18  66.800003  68.459999  66.160004  68.419998  68.419998  42456000"
      ]
     },
     "execution_count": 45,
     "metadata": {},
     "output_type": "execute_result"
    }
   ],
   "source": [
    "# Basic structure of a dataframe\n",
    "fb.head()"
   ]
  },
  {
   "cell_type": "code",
   "execution_count": 49,
   "metadata": {},
   "outputs": [
    {
     "data": {
      "text/plain": [
       "Index(['Open', 'High', 'Low', 'Close', 'Adj Close', 'Volume'], dtype='object')"
      ]
     },
     "execution_count": 49,
     "metadata": {},
     "output_type": "execute_result"
    }
   ],
   "source": [
    "# Attributes of DataFrame\n",
    "\n",
    "fb.index\n",
    "fb.index[0] #the first index\n",
    "fb.index[-1] #the last index\n",
    "fb.columns"
   ]
  },
  {
   "cell_type": "code",
   "execution_count": 87,
   "metadata": {},
   "outputs": [
    {
     "data": {
      "text/plain": [
       "Index(['Open', 'High', 'Low', 'Close', 'Adj Close', 'Volume', 'ma60'], dtype='object')"
      ]
     },
     "execution_count": 87,
     "metadata": {},
     "output_type": "execute_result"
    }
   ],
   "source": [
    "# Attributes of DataFrame\n",
    "\n",
    "ms.index\n",
    "ms.index[0] #the first index\n",
    "ms.index[-1] #the last index\n",
    "ms.columns"
   ]
  },
  {
   "cell_type": "code",
   "execution_count": 50,
   "metadata": {},
   "outputs": [
    {
     "data": {
      "text/plain": [
       "(1258, 6)"
      ]
     },
     "execution_count": 50,
     "metadata": {},
     "output_type": "execute_result"
    }
   ],
   "source": [
    "fb.shape # number of rows and conlumns"
   ]
  },
  {
   "cell_type": "code",
   "execution_count": 47,
   "metadata": {},
   "outputs": [
    {
     "data": {
      "text/html": [
       "<div>\n",
       "<style scoped>\n",
       "    .dataframe tbody tr th:only-of-type {\n",
       "        vertical-align: middle;\n",
       "    }\n",
       "\n",
       "    .dataframe tbody tr th {\n",
       "        vertical-align: top;\n",
       "    }\n",
       "\n",
       "    .dataframe thead th {\n",
       "        text-align: right;\n",
       "    }\n",
       "</style>\n",
       "<table border=\"1\" class=\"dataframe\">\n",
       "  <thead>\n",
       "    <tr style=\"text-align: right;\">\n",
       "      <th></th>\n",
       "      <th>Open</th>\n",
       "      <th>High</th>\n",
       "      <th>Low</th>\n",
       "      <th>Close</th>\n",
       "      <th>Adj Close</th>\n",
       "      <th>Volume</th>\n",
       "    </tr>\n",
       "    <tr>\n",
       "      <th>Date</th>\n",
       "      <th></th>\n",
       "      <th></th>\n",
       "      <th></th>\n",
       "      <th></th>\n",
       "      <th></th>\n",
       "      <th></th>\n",
       "    </tr>\n",
       "  </thead>\n",
       "  <tbody>\n",
       "    <tr>\n",
       "      <th>2019-07-05</th>\n",
       "      <td>196.179993</td>\n",
       "      <td>197.070007</td>\n",
       "      <td>194.169998</td>\n",
       "      <td>196.399994</td>\n",
       "      <td>196.399994</td>\n",
       "      <td>11164100</td>\n",
       "    </tr>\n",
       "    <tr>\n",
       "      <th>2019-07-08</th>\n",
       "      <td>195.190002</td>\n",
       "      <td>196.679993</td>\n",
       "      <td>193.639999</td>\n",
       "      <td>195.759995</td>\n",
       "      <td>195.759995</td>\n",
       "      <td>9723900</td>\n",
       "    </tr>\n",
       "    <tr>\n",
       "      <th>2019-07-09</th>\n",
       "      <td>194.970001</td>\n",
       "      <td>199.460007</td>\n",
       "      <td>194.889999</td>\n",
       "      <td>199.210007</td>\n",
       "      <td>199.210007</td>\n",
       "      <td>14698600</td>\n",
       "    </tr>\n",
       "    <tr>\n",
       "      <th>2019-07-10</th>\n",
       "      <td>200.000000</td>\n",
       "      <td>202.960007</td>\n",
       "      <td>199.669998</td>\n",
       "      <td>202.729996</td>\n",
       "      <td>202.729996</td>\n",
       "      <td>20571700</td>\n",
       "    </tr>\n",
       "    <tr>\n",
       "      <th>2019-07-11</th>\n",
       "      <td>203.259995</td>\n",
       "      <td>203.800003</td>\n",
       "      <td>200.210007</td>\n",
       "      <td>201.229996</td>\n",
       "      <td>201.229996</td>\n",
       "      <td>13669400</td>\n",
       "    </tr>\n",
       "  </tbody>\n",
       "</table>\n",
       "</div>"
      ],
      "text/plain": [
       "                  Open        High         Low       Close   Adj Close  \\\n",
       "Date                                                                     \n",
       "2019-07-05  196.179993  197.070007  194.169998  196.399994  196.399994   \n",
       "2019-07-08  195.190002  196.679993  193.639999  195.759995  195.759995   \n",
       "2019-07-09  194.970001  199.460007  194.889999  199.210007  199.210007   \n",
       "2019-07-10  200.000000  202.960007  199.669998  202.729996  202.729996   \n",
       "2019-07-11  203.259995  203.800003  200.210007  201.229996  201.229996   \n",
       "\n",
       "              Volume  \n",
       "Date                  \n",
       "2019-07-05  11164100  \n",
       "2019-07-08   9723900  \n",
       "2019-07-09  14698600  \n",
       "2019-07-10  20571700  \n",
       "2019-07-11  13669400  "
      ]
     },
     "execution_count": 47,
     "metadata": {},
     "output_type": "execute_result"
    }
   ],
   "source": [
    "# Methods of DataFrame\n",
    "\n",
    "fb.tail()"
   ]
  },
  {
   "cell_type": "code",
   "execution_count": 48,
   "metadata": {},
   "outputs": [
    {
     "data": {
      "text/html": [
       "<div>\n",
       "<style scoped>\n",
       "    .dataframe tbody tr th:only-of-type {\n",
       "        vertical-align: middle;\n",
       "    }\n",
       "\n",
       "    .dataframe tbody tr th {\n",
       "        vertical-align: top;\n",
       "    }\n",
       "\n",
       "    .dataframe thead th {\n",
       "        text-align: right;\n",
       "    }\n",
       "</style>\n",
       "<table border=\"1\" class=\"dataframe\">\n",
       "  <thead>\n",
       "    <tr style=\"text-align: right;\">\n",
       "      <th></th>\n",
       "      <th>Open</th>\n",
       "      <th>High</th>\n",
       "      <th>Low</th>\n",
       "      <th>Close</th>\n",
       "      <th>Adj Close</th>\n",
       "      <th>Volume</th>\n",
       "    </tr>\n",
       "  </thead>\n",
       "  <tbody>\n",
       "    <tr>\n",
       "      <th>count</th>\n",
       "      <td>1258.000000</td>\n",
       "      <td>1258.000000</td>\n",
       "      <td>1258.000000</td>\n",
       "      <td>1258.000000</td>\n",
       "      <td>1258.000000</td>\n",
       "      <td>1.258000e+03</td>\n",
       "    </tr>\n",
       "    <tr>\n",
       "      <th>mean</th>\n",
       "      <td>131.946971</td>\n",
       "      <td>133.274682</td>\n",
       "      <td>130.596224</td>\n",
       "      <td>132.009658</td>\n",
       "      <td>132.009658</td>\n",
       "      <td>2.456472e+07</td>\n",
       "    </tr>\n",
       "    <tr>\n",
       "      <th>std</th>\n",
       "      <td>39.121782</td>\n",
       "      <td>39.478816</td>\n",
       "      <td>38.793665</td>\n",
       "      <td>39.163562</td>\n",
       "      <td>39.163562</td>\n",
       "      <td>1.492344e+07</td>\n",
       "    </tr>\n",
       "    <tr>\n",
       "      <th>min</th>\n",
       "      <td>66.800003</td>\n",
       "      <td>67.849998</td>\n",
       "      <td>66.040001</td>\n",
       "      <td>66.410004</td>\n",
       "      <td>66.410004</td>\n",
       "      <td>5.913100e+06</td>\n",
       "    </tr>\n",
       "    <tr>\n",
       "      <th>25%</th>\n",
       "      <td>95.849998</td>\n",
       "      <td>97.137497</td>\n",
       "      <td>94.277502</td>\n",
       "      <td>95.342499</td>\n",
       "      <td>95.342499</td>\n",
       "      <td>1.551558e+07</td>\n",
       "    </tr>\n",
       "    <tr>\n",
       "      <th>50%</th>\n",
       "      <td>129.845002</td>\n",
       "      <td>130.680001</td>\n",
       "      <td>128.510003</td>\n",
       "      <td>129.970001</td>\n",
       "      <td>129.970001</td>\n",
       "      <td>2.061905e+07</td>\n",
       "    </tr>\n",
       "    <tr>\n",
       "      <th>75%</th>\n",
       "      <td>168.947502</td>\n",
       "      <td>170.530002</td>\n",
       "      <td>167.157502</td>\n",
       "      <td>169.057503</td>\n",
       "      <td>169.057503</td>\n",
       "      <td>2.831975e+07</td>\n",
       "    </tr>\n",
       "    <tr>\n",
       "      <th>max</th>\n",
       "      <td>215.720001</td>\n",
       "      <td>218.619995</td>\n",
       "      <td>214.270004</td>\n",
       "      <td>217.500000</td>\n",
       "      <td>217.500000</td>\n",
       "      <td>1.698037e+08</td>\n",
       "    </tr>\n",
       "  </tbody>\n",
       "</table>\n",
       "</div>"
      ],
      "text/plain": [
       "              Open         High          Low        Close    Adj Close  \\\n",
       "count  1258.000000  1258.000000  1258.000000  1258.000000  1258.000000   \n",
       "mean    131.946971   133.274682   130.596224   132.009658   132.009658   \n",
       "std      39.121782    39.478816    38.793665    39.163562    39.163562   \n",
       "min      66.800003    67.849998    66.040001    66.410004    66.410004   \n",
       "25%      95.849998    97.137497    94.277502    95.342499    95.342499   \n",
       "50%     129.845002   130.680001   128.510003   129.970001   129.970001   \n",
       "75%     168.947502   170.530002   167.157502   169.057503   169.057503   \n",
       "max     215.720001   218.619995   214.270004   217.500000   217.500000   \n",
       "\n",
       "             Volume  \n",
       "count  1.258000e+03  \n",
       "mean   2.456472e+07  \n",
       "std    1.492344e+07  \n",
       "min    5.913100e+06  \n",
       "25%    1.551558e+07  \n",
       "50%    2.061905e+07  \n",
       "75%    2.831975e+07  \n",
       "max    1.698037e+08  "
      ]
     },
     "execution_count": 48,
     "metadata": {},
     "output_type": "execute_result"
    }
   ],
   "source": [
    "fb.describe()"
   ]
  },
  {
   "cell_type": "markdown",
   "metadata": {},
   "source": [
    "### Slicing DataFrame\n",
    "* Selection by label\n",
    "  * loc\n",
    "   \n",
    "* Selection by position\n",
    "  * .iloc"
   ]
  },
  {
   "cell_type": "code",
   "execution_count": null,
   "metadata": {},
   "outputs": [],
   "source": [
    "fb= fb.astype(float)"
   ]
  },
  {
   "cell_type": "code",
   "execution_count": 54,
   "metadata": {},
   "outputs": [
    {
     "data": {
      "text/plain": [
       "<matplotlib.axes._subplots.AxesSubplot at 0x1ea5aaf8be0>"
      ]
     },
     "execution_count": 54,
     "metadata": {},
     "output_type": "execute_result"
    },
    {
     "data": {
      "image/png": "[encoded data removed]",
      "text/plain": [
       "<Figure size 432x288 with 1 Axes>"
      ]
     },
     "metadata": {
      "needs_background": "light"
     },
     "output_type": "display_data"
    }
   ],
   "source": [
    "fb.loc['2014-07-14':'2014-12-31','Close'].plot()\n",
    "fb.loc['2015-01-01':'2015-12-31','Close'].plot()\n",
    "fb.loc['2016-01-01':'2016-12-31','Close'].plot()\n",
    "fb.loc['2017-01-01':'2017-12-31','Close'].plot()\n",
    "fb.loc['2018-01-01':'2018-12-31','Close'].plot()\n",
    "fb.loc['2019-01-01':'2019-12-31','Close'].plot()"
   ]
  },
  {
   "cell_type": "code",
   "execution_count": 56,
   "metadata": {},
   "outputs": [
    {
     "data": {
      "text/plain": [
       "<matplotlib.axes._subplots.AxesSubplot at 0x1ea5ac25780>"
      ]
     },
     "execution_count": 56,
     "metadata": {},
     "output_type": "execute_result"
    },
    {
     "data": {
      "image/png": "[encoded data removed]",
      "text/plain": [
       "<Figure size 432x288 with 1 Axes>"
      ]
     },
     "metadata": {
      "needs_background": "light"
     },
     "output_type": "display_data"
    }
   ],
   "source": [
    "# FB from 2014-07-14 to 2019-12-31\n",
    "fb.loc['2014-07-14':'2019-12-31','Close'].plot()"
   ]
  },
  {
   "cell_type": "markdown",
   "metadata": {},
   "source": [
    "#### Locate a particular row of data using \"Selection by position\""
   ]
  },
  {
   "cell_type": "code",
   "execution_count": 57,
   "metadata": {},
   "outputs": [
    {
     "name": "stdout",
     "output_type": "stream",
     "text": [
      "67.129997\n"
     ]
    }
   ],
   "source": [
    "# print the opening price of the first row\n",
    "print(fb.iloc[0, 0])"
   ]
  },
  {
   "cell_type": "markdown",
   "metadata": {},
   "source": [
    "#### Plot the stock data using plot() method"
   ]
  },
  {
   "cell_type": "code",
   "execution_count": 58,
   "metadata": {},
   "outputs": [
    {
     "data": {
      "image/png": "[encoded data removed]",
      "text/plain": [
       "<Figure size 720x576 with 1 Axes>"
      ]
     },
     "metadata": {
      "needs_background": "light"
     },
     "output_type": "display_data"
    }
   ],
   "source": [
    "plt.figure(figsize=(10, 8))\n",
    "fb['Close'].plot()\n",
    "plt.show()"
   ]
  },
  {
   "cell_type": "markdown",
   "metadata": {},
   "source": [
    "## 1.4 Generate new variables in Dataframe\n",
    "\n",
    "#### Select a single column from a DataFrame"
   ]
  },
  {
   "cell_type": "code",
   "execution_count": 60,
   "metadata": {},
   "outputs": [
    {
     "data": {
      "text/plain": [
       "Date\n",
       "2014-07-14    67.900002\n",
       "2014-07-15    67.169998\n",
       "2014-07-16    67.660004\n",
       "2014-07-17    66.410004\n",
       "2014-07-18    68.419998\n",
       "Name: Close, dtype: float64"
      ]
     },
     "execution_count": 60,
     "metadata": {},
     "output_type": "execute_result"
    }
   ],
   "source": [
    "fb['Close'].head()"
   ]
  },
  {
   "cell_type": "markdown",
   "metadata": {},
   "source": [
    "#### Select multiple column from a DataFrame"
   ]
  },
  {
   "cell_type": "code",
   "execution_count": 64,
   "metadata": {},
   "outputs": [
    {
     "data": {
      "text/html": [
       "<div>\n",
       "<style scoped>\n",
       "    .dataframe tbody tr th:only-of-type {\n",
       "        vertical-align: middle;\n",
       "    }\n",
       "\n",
       "    .dataframe tbody tr th {\n",
       "        vertical-align: top;\n",
       "    }\n",
       "\n",
       "    .dataframe thead th {\n",
       "        text-align: right;\n",
       "    }\n",
       "</style>\n",
       "<table border=\"1\" class=\"dataframe\">\n",
       "  <thead>\n",
       "    <tr style=\"text-align: right;\">\n",
       "      <th></th>\n",
       "      <th>Open</th>\n",
       "      <th>Close</th>\n",
       "    </tr>\n",
       "    <tr>\n",
       "      <th>Date</th>\n",
       "      <th></th>\n",
       "      <th></th>\n",
       "    </tr>\n",
       "  </thead>\n",
       "  <tbody>\n",
       "    <tr>\n",
       "      <th>2014-07-14</th>\n",
       "      <td>67.129997</td>\n",
       "      <td>67.900002</td>\n",
       "    </tr>\n",
       "    <tr>\n",
       "      <th>2014-07-15</th>\n",
       "      <td>67.959999</td>\n",
       "      <td>67.169998</td>\n",
       "    </tr>\n",
       "    <tr>\n",
       "      <th>2014-07-16</th>\n",
       "      <td>67.540001</td>\n",
       "      <td>67.660004</td>\n",
       "    </tr>\n",
       "    <tr>\n",
       "      <th>2014-07-17</th>\n",
       "      <td>67.029999</td>\n",
       "      <td>66.410004</td>\n",
       "    </tr>\n",
       "    <tr>\n",
       "      <th>2014-07-18</th>\n",
       "      <td>66.800003</td>\n",
       "      <td>68.419998</td>\n",
       "    </tr>\n",
       "  </tbody>\n",
       "</table>\n",
       "</div>"
      ],
      "text/plain": [
       "                 Open      Close\n",
       "Date                            \n",
       "2014-07-14  67.129997  67.900002\n",
       "2014-07-15  67.959999  67.169998\n",
       "2014-07-16  67.540001  67.660004\n",
       "2014-07-17  67.029999  66.410004\n",
       "2014-07-18  66.800003  68.419998"
      ]
     },
     "execution_count": 64,
     "metadata": {},
     "output_type": "execute_result"
    }
   ],
   "source": [
    "fb[['Open', 'Close']].head()"
   ]
  },
  {
   "cell_type": "markdown",
   "metadata": {},
   "source": [
    "Create a new colume in a DataFrame"
   ]
  },
  {
   "cell_type": "code",
   "execution_count": 65,
   "metadata": {},
   "outputs": [],
   "source": [
    "fb['Price1']=fb['Close'].shift(-1)"
   ]
  },
  {
   "cell_type": "code",
   "execution_count": 68,
   "metadata": {},
   "outputs": [
    {
     "data": {
      "text/html": [
       "<div>\n",
       "<style scoped>\n",
       "    .dataframe tbody tr th:only-of-type {\n",
       "        vertical-align: middle;\n",
       "    }\n",
       "\n",
       "    .dataframe tbody tr th {\n",
       "        vertical-align: top;\n",
       "    }\n",
       "\n",
       "    .dataframe thead th {\n",
       "        text-align: right;\n",
       "    }\n",
       "</style>\n",
       "<table border=\"1\" class=\"dataframe\">\n",
       "  <thead>\n",
       "    <tr style=\"text-align: right;\">\n",
       "      <th></th>\n",
       "      <th>Open</th>\n",
       "      <th>High</th>\n",
       "      <th>Low</th>\n",
       "      <th>Close</th>\n",
       "      <th>Adj Close</th>\n",
       "      <th>Volume</th>\n",
       "      <th>Price1</th>\n",
       "      <th>PriceDiff</th>\n",
       "    </tr>\n",
       "    <tr>\n",
       "      <th>Date</th>\n",
       "      <th></th>\n",
       "      <th></th>\n",
       "      <th></th>\n",
       "      <th></th>\n",
       "      <th></th>\n",
       "      <th></th>\n",
       "      <th></th>\n",
       "      <th></th>\n",
       "    </tr>\n",
       "  </thead>\n",
       "  <tbody>\n",
       "    <tr>\n",
       "      <th>2014-07-14</th>\n",
       "      <td>67.129997</td>\n",
       "      <td>68.169998</td>\n",
       "      <td>66.900002</td>\n",
       "      <td>67.900002</td>\n",
       "      <td>67.900002</td>\n",
       "      <td>38537000</td>\n",
       "      <td>67.169998</td>\n",
       "      <td>-0.730004</td>\n",
       "    </tr>\n",
       "    <tr>\n",
       "      <th>2014-07-15</th>\n",
       "      <td>67.959999</td>\n",
       "      <td>68.089996</td>\n",
       "      <td>66.260002</td>\n",
       "      <td>67.169998</td>\n",
       "      <td>67.169998</td>\n",
       "      <td>44213200</td>\n",
       "      <td>67.660004</td>\n",
       "      <td>0.490006</td>\n",
       "    </tr>\n",
       "    <tr>\n",
       "      <th>2014-07-16</th>\n",
       "      <td>67.540001</td>\n",
       "      <td>67.940002</td>\n",
       "      <td>67.070000</td>\n",
       "      <td>67.660004</td>\n",
       "      <td>67.660004</td>\n",
       "      <td>29541600</td>\n",
       "      <td>66.410004</td>\n",
       "      <td>-1.250000</td>\n",
       "    </tr>\n",
       "    <tr>\n",
       "      <th>2014-07-17</th>\n",
       "      <td>67.029999</td>\n",
       "      <td>67.849998</td>\n",
       "      <td>66.040001</td>\n",
       "      <td>66.410004</td>\n",
       "      <td>66.410004</td>\n",
       "      <td>38188000</td>\n",
       "      <td>68.419998</td>\n",
       "      <td>2.009994</td>\n",
       "    </tr>\n",
       "    <tr>\n",
       "      <th>2014-07-18</th>\n",
       "      <td>66.800003</td>\n",
       "      <td>68.459999</td>\n",
       "      <td>66.160004</td>\n",
       "      <td>68.419998</td>\n",
       "      <td>68.419998</td>\n",
       "      <td>42456000</td>\n",
       "      <td>69.400002</td>\n",
       "      <td>0.980004</td>\n",
       "    </tr>\n",
       "  </tbody>\n",
       "</table>\n",
       "</div>"
      ],
      "text/plain": [
       "                 Open       High        Low      Close  Adj Close    Volume  \\\n",
       "Date                                                                          \n",
       "2014-07-14  67.129997  68.169998  66.900002  67.900002  67.900002  38537000   \n",
       "2014-07-15  67.959999  68.089996  66.260002  67.169998  67.169998  44213200   \n",
       "2014-07-16  67.540001  67.940002  67.070000  67.660004  67.660004  29541600   \n",
       "2014-07-17  67.029999  67.849998  66.040001  66.410004  66.410004  38188000   \n",
       "2014-07-18  66.800003  68.459999  66.160004  68.419998  68.419998  42456000   \n",
       "\n",
       "               Price1  PriceDiff  \n",
       "Date                              \n",
       "2014-07-14  67.169998  -0.730004  \n",
       "2014-07-15  67.660004   0.490006  \n",
       "2014-07-16  66.410004  -1.250000  \n",
       "2014-07-17  68.419998   2.009994  \n",
       "2014-07-18  69.400002   0.980004  "
      ]
     },
     "execution_count": 68,
     "metadata": {},
     "output_type": "execute_result"
    }
   ],
   "source": [
    "# Price Difference\n",
    "fb['PriceDiff']=fb['Price1']-fb['Close']\n",
    "fb.head()"
   ]
  },
  {
   "cell_type": "code",
   "execution_count": 71,
   "metadata": {},
   "outputs": [
    {
     "data": {
      "text/html": [
       "<div>\n",
       "<style scoped>\n",
       "    .dataframe tbody tr th:only-of-type {\n",
       "        vertical-align: middle;\n",
       "    }\n",
       "\n",
       "    .dataframe tbody tr th {\n",
       "        vertical-align: top;\n",
       "    }\n",
       "\n",
       "    .dataframe thead th {\n",
       "        text-align: right;\n",
       "    }\n",
       "</style>\n",
       "<table border=\"1\" class=\"dataframe\">\n",
       "  <thead>\n",
       "    <tr style=\"text-align: right;\">\n",
       "      <th></th>\n",
       "      <th>Open</th>\n",
       "      <th>High</th>\n",
       "      <th>Low</th>\n",
       "      <th>Close</th>\n",
       "      <th>Adj Close</th>\n",
       "      <th>Volume</th>\n",
       "      <th>Price1</th>\n",
       "      <th>PriceDiff</th>\n",
       "      <th>Return</th>\n",
       "    </tr>\n",
       "    <tr>\n",
       "      <th>Date</th>\n",
       "      <th></th>\n",
       "      <th></th>\n",
       "      <th></th>\n",
       "      <th></th>\n",
       "      <th></th>\n",
       "      <th></th>\n",
       "      <th></th>\n",
       "      <th></th>\n",
       "      <th></th>\n",
       "    </tr>\n",
       "  </thead>\n",
       "  <tbody>\n",
       "    <tr>\n",
       "      <th>2014-07-14</th>\n",
       "      <td>67.129997</td>\n",
       "      <td>68.169998</td>\n",
       "      <td>66.900002</td>\n",
       "      <td>67.900002</td>\n",
       "      <td>67.900002</td>\n",
       "      <td>38537000</td>\n",
       "      <td>67.169998</td>\n",
       "      <td>-0.730004</td>\n",
       "      <td>-0.010751</td>\n",
       "    </tr>\n",
       "    <tr>\n",
       "      <th>2014-07-15</th>\n",
       "      <td>67.959999</td>\n",
       "      <td>68.089996</td>\n",
       "      <td>66.260002</td>\n",
       "      <td>67.169998</td>\n",
       "      <td>67.169998</td>\n",
       "      <td>44213200</td>\n",
       "      <td>67.660004</td>\n",
       "      <td>0.490006</td>\n",
       "      <td>0.007295</td>\n",
       "    </tr>\n",
       "    <tr>\n",
       "      <th>2014-07-16</th>\n",
       "      <td>67.540001</td>\n",
       "      <td>67.940002</td>\n",
       "      <td>67.070000</td>\n",
       "      <td>67.660004</td>\n",
       "      <td>67.660004</td>\n",
       "      <td>29541600</td>\n",
       "      <td>66.410004</td>\n",
       "      <td>-1.250000</td>\n",
       "      <td>-0.018475</td>\n",
       "    </tr>\n",
       "    <tr>\n",
       "      <th>2014-07-17</th>\n",
       "      <td>67.029999</td>\n",
       "      <td>67.849998</td>\n",
       "      <td>66.040001</td>\n",
       "      <td>66.410004</td>\n",
       "      <td>66.410004</td>\n",
       "      <td>38188000</td>\n",
       "      <td>68.419998</td>\n",
       "      <td>2.009994</td>\n",
       "      <td>0.030266</td>\n",
       "    </tr>\n",
       "    <tr>\n",
       "      <th>2014-07-18</th>\n",
       "      <td>66.800003</td>\n",
       "      <td>68.459999</td>\n",
       "      <td>66.160004</td>\n",
       "      <td>68.419998</td>\n",
       "      <td>68.419998</td>\n",
       "      <td>42456000</td>\n",
       "      <td>69.400002</td>\n",
       "      <td>0.980004</td>\n",
       "      <td>0.014323</td>\n",
       "    </tr>\n",
       "  </tbody>\n",
       "</table>\n",
       "</div>"
      ],
      "text/plain": [
       "                 Open       High        Low      Close  Adj Close    Volume  \\\n",
       "Date                                                                          \n",
       "2014-07-14  67.129997  68.169998  66.900002  67.900002  67.900002  38537000   \n",
       "2014-07-15  67.959999  68.089996  66.260002  67.169998  67.169998  44213200   \n",
       "2014-07-16  67.540001  67.940002  67.070000  67.660004  67.660004  29541600   \n",
       "2014-07-17  67.029999  67.849998  66.040001  66.410004  66.410004  38188000   \n",
       "2014-07-18  66.800003  68.459999  66.160004  68.419998  68.419998  42456000   \n",
       "\n",
       "               Price1  PriceDiff    Return  \n",
       "Date                                        \n",
       "2014-07-14  67.169998  -0.730004 -0.010751  \n",
       "2014-07-15  67.660004   0.490006  0.007295  \n",
       "2014-07-16  66.410004  -1.250000 -0.018475  \n",
       "2014-07-17  68.419998   2.009994  0.030266  \n",
       "2014-07-18  69.400002   0.980004  0.014323  "
      ]
     },
     "execution_count": 71,
     "metadata": {},
     "output_type": "execute_result"
    }
   ],
   "source": [
    "# Daily return\n",
    "fb['Return']=fb['PriceDiff']/fb['Close']\n",
    "fb.head()"
   ]
  },
  {
   "cell_type": "markdown",
   "metadata": {},
   "source": [
    "#### Create a 'Direction' column\n",
    "rules \n",
    "* **PriceDiff >0  up 1**\n",
    "* **PriceDiff <=0 down -1**\n",
    "\n",
    "Direction\n",
    "List comprehension"
   ]
  },
  {
   "cell_type": "code",
   "execution_count": 74,
   "metadata": {},
   "outputs": [],
   "source": [
    "#Create a new column Direction. \n",
    "#The List Comprehension means : if the price difference is larger than 0, denote as 1, otherwise, denote as 0,\n",
    "#for every record in the DataFrame - fb\n",
    "fb['Direction'] = [1 if fb.loc[ei, 'PriceDiff']>0 else -1\n",
    "                  for ei in fb.index]"
   ]
  },
  {
   "cell_type": "code",
   "execution_count": null,
   "metadata": {},
   "outputs": [],
   "source": []
  },
  {
   "cell_type": "markdown",
   "metadata": {},
   "source": [
    "### Create a new column in the DataFrame using Rolling Window calculation (.rolling()) - Moving average"
   ]
  },
  {
   "cell_type": "code",
   "execution_count": 75,
   "metadata": {},
   "outputs": [
    {
     "data": {
      "image/png": "[encoded data removed]",
      "text/plain": [
       "<Figure size 720x576 with 1 Axes>"
      ]
     },
     "metadata": {
      "needs_background": "light"
     },
     "output_type": "display_data"
    }
   ],
   "source": [
    "fb['ma50'] = fb['Close'].rolling(50).mean()\n",
    "\n",
    "#plot the moving average\n",
    "plt.figure(figsize=(10, 8))\n",
    "fb['ma50'].loc['2015-01-01':'2015-12-31'].plot(label='MA50')\n",
    "fb['Close'].loc['2015-01-01':'2015-12-31'].plot(label='Close')\n",
    "plt.legend()\n",
    "plt.show()"
   ]
  },
  {
   "cell_type": "markdown",
   "metadata": {},
   "source": [
    "## 1.5 Trading Strategy\n",
    "\n",
    "### Strategy-Fast signal and slow signal"
   ]
  },
  {
   "cell_type": "code",
   "execution_count": 108,
   "metadata": {},
   "outputs": [
    {
     "name": "stderr",
     "output_type": "stream",
     "text": [
      "C:\\Users\\Elva\\Anaconda3\\lib\\site-packages\\ipykernel_launcher.py:1: FutureWarning: from_csv is deprecated. Please use read_csv(...) instead. Note that some of the default arguments are different, so please refer to the documentation for from_csv when changing your function calls\n",
      "  \"\"\"Entry point for launching an IPython kernel.\n"
     ]
    }
   ],
   "source": [
    "ms=pd.DataFrame.from_csv(r'C:\\Users\\Elva\\Downloads\\MSFT.csv')\n",
    "ms['MA10']=ms['Close'].rolling(10).mean() #fast signal\n",
    "ms['MA50']=ms['Close'].rolling(50).mean() #slow signal"
   ]
  },
  {
   "cell_type": "code",
   "execution_count": 109,
   "metadata": {},
   "outputs": [
    {
     "data": {
      "text/plain": [
       "<matplotlib.axes._subplots.AxesSubplot at 0x1ea5c19c128>"
      ]
     },
     "execution_count": 109,
     "metadata": {},
     "output_type": "execute_result"
    },
    {
     "data": {
      "image/png": "[encoded data removed]",
      "text/plain": [
       "<Figure size 432x288 with 1 Axes>"
      ]
     },
     "metadata": {
      "needs_background": "light"
     },
     "output_type": "display_data"
    }
   ],
   "source": [
    "# Plot the stock price with two moving averages\n",
    "ms['Close'].plot(legend=True)\n",
    "ms['MA10'].plot(legend=True) #fast signal\n",
    "ms['MA50'].plot(legend=True) #slow signal"
   ]
  },
  {
   "cell_type": "markdown",
   "metadata": {},
   "source": [
    "Our strategy is, if MA10 is larger than MA50, we will buy and hold one share of stock. Alternately speaking, we will long one share of stock. This yellow area labels the days on which we buy and hold one share of stock.\n",
    "\n",
    "**MA10 > MA50 Buy or hold one share of stock**\n",
    "\n",
    "### Add \"Shares\" column to make decisions base on the strategy"
   ]
  },
  {
   "cell_type": "code",
   "execution_count": 112,
   "metadata": {},
   "outputs": [],
   "source": [
    "#Add a new column \"Shares\", if MA10>MA50, denote as 1 (long one share of stock), otherwise, denote as 0 (do nothing)\n",
    "\n",
    "ms['Shares'] = [1 if ms.loc[ei, 'MA10']>ms.loc[ei, 'MA50'] else 0 for ei in ms.index]"
   ]
  },
  {
   "cell_type": "code",
   "execution_count": 113,
   "metadata": {},
   "outputs": [
    {
     "data": {
      "text/plain": [
       "<matplotlib.lines.Line2D at 0x1ea5c25f4e0>"
      ]
     },
     "execution_count": 113,
     "metadata": {},
     "output_type": "execute_result"
    },
    {
     "data": {
      "image/png": "[encoded data removed]",
      "text/plain": [
       "<Figure size 432x288 with 1 Axes>"
      ]
     },
     "metadata": {
      "needs_background": "light"
     },
     "output_type": "display_data"
    }
   ],
   "source": [
    "#Add a new column \"Profit\" using List Comprehension, for any rows in fb, if Shares=1, the profit is calculated as the close price of \n",
    "#tomorrow - the close price of today. Otherwise the profit is 0.\n",
    "\n",
    "#Plot a graph to show the Profit/Loss\n",
    "\n",
    "ms['Close1'] = ms['Close'].shift(-1)\n",
    "ms['Profit'] = [ms.loc[ei, 'Close1'] - ms.loc[ei, 'Close'] if ms.loc[ei, 'Shares']==1 else 0 for ei in ms.index]\n",
    "ms['Profit'].plot()\n",
    "plt.axhline(y=0, color='red')"
   ]
  },
  {
   "cell_type": "markdown",
   "metadata": {},
   "source": [
    "#### Use .cumsum() to display our model's performance if we follow the strategy"
   ]
  },
  {
   "cell_type": "code",
   "execution_count": 114,
   "metadata": {
    "scrolled": true
   },
   "outputs": [
    {
     "data": {
      "text/html": [
       "<div>\n",
       "<style scoped>\n",
       "    .dataframe tbody tr th:only-of-type {\n",
       "        vertical-align: middle;\n",
       "    }\n",
       "\n",
       "    .dataframe tbody tr th {\n",
       "        vertical-align: top;\n",
       "    }\n",
       "\n",
       "    .dataframe thead th {\n",
       "        text-align: right;\n",
       "    }\n",
       "</style>\n",
       "<table border=\"1\" class=\"dataframe\">\n",
       "  <thead>\n",
       "    <tr style=\"text-align: right;\">\n",
       "      <th></th>\n",
       "      <th>Open</th>\n",
       "      <th>High</th>\n",
       "      <th>Low</th>\n",
       "      <th>Close</th>\n",
       "      <th>Adj Close</th>\n",
       "      <th>Volume</th>\n",
       "      <th>MA10</th>\n",
       "      <th>MA50</th>\n",
       "      <th>Shares</th>\n",
       "      <th>Close1</th>\n",
       "      <th>Profit</th>\n",
       "      <th>wealth</th>\n",
       "    </tr>\n",
       "    <tr>\n",
       "      <th>Date</th>\n",
       "      <th></th>\n",
       "      <th></th>\n",
       "      <th></th>\n",
       "      <th></th>\n",
       "      <th></th>\n",
       "      <th></th>\n",
       "      <th></th>\n",
       "      <th></th>\n",
       "      <th></th>\n",
       "      <th></th>\n",
       "      <th></th>\n",
       "      <th></th>\n",
       "    </tr>\n",
       "  </thead>\n",
       "  <tbody>\n",
       "    <tr>\n",
       "      <th>2019-07-08</th>\n",
       "      <td>136.399994</td>\n",
       "      <td>137.100006</td>\n",
       "      <td>135.369995</td>\n",
       "      <td>136.960007</td>\n",
       "      <td>136.960007</td>\n",
       "      <td>16779700</td>\n",
       "      <td>135.698999</td>\n",
       "      <td>129.8700</td>\n",
       "      <td>1</td>\n",
       "      <td>136.460007</td>\n",
       "      <td>-0.500000</td>\n",
       "      <td>65.360025</td>\n",
       "    </tr>\n",
       "    <tr>\n",
       "      <th>2019-07-09</th>\n",
       "      <td>136.000000</td>\n",
       "      <td>136.970001</td>\n",
       "      <td>135.800003</td>\n",
       "      <td>136.460007</td>\n",
       "      <td>136.460007</td>\n",
       "      <td>19953100</td>\n",
       "      <td>135.567000</td>\n",
       "      <td>130.0014</td>\n",
       "      <td>1</td>\n",
       "      <td>137.850006</td>\n",
       "      <td>1.389999</td>\n",
       "      <td>66.750024</td>\n",
       "    </tr>\n",
       "    <tr>\n",
       "      <th>2019-07-10</th>\n",
       "      <td>137.130005</td>\n",
       "      <td>138.580002</td>\n",
       "      <td>137.020004</td>\n",
       "      <td>137.850006</td>\n",
       "      <td>137.850006</td>\n",
       "      <td>24204400</td>\n",
       "      <td>136.009001</td>\n",
       "      <td>130.1630</td>\n",
       "      <td>1</td>\n",
       "      <td>138.399994</td>\n",
       "      <td>0.549988</td>\n",
       "      <td>67.300012</td>\n",
       "    </tr>\n",
       "    <tr>\n",
       "      <th>2019-07-11</th>\n",
       "      <td>138.199997</td>\n",
       "      <td>139.220001</td>\n",
       "      <td>137.869995</td>\n",
       "      <td>138.399994</td>\n",
       "      <td>138.399994</td>\n",
       "      <td>22327900</td>\n",
       "      <td>136.456001</td>\n",
       "      <td>130.3190</td>\n",
       "      <td>1</td>\n",
       "      <td>138.899994</td>\n",
       "      <td>0.500000</td>\n",
       "      <td>67.800012</td>\n",
       "    </tr>\n",
       "    <tr>\n",
       "      <th>2019-07-12</th>\n",
       "      <td>138.850006</td>\n",
       "      <td>139.130005</td>\n",
       "      <td>138.009995</td>\n",
       "      <td>138.899994</td>\n",
       "      <td>138.899994</td>\n",
       "      <td>18933900</td>\n",
       "      <td>136.931001</td>\n",
       "      <td>130.5394</td>\n",
       "      <td>1</td>\n",
       "      <td>NaN</td>\n",
       "      <td>NaN</td>\n",
       "      <td>NaN</td>\n",
       "    </tr>\n",
       "  </tbody>\n",
       "</table>\n",
       "</div>"
      ],
      "text/plain": [
       "                  Open        High         Low       Close   Adj Close  \\\n",
       "Date                                                                     \n",
       "2019-07-08  136.399994  137.100006  135.369995  136.960007  136.960007   \n",
       "2019-07-09  136.000000  136.970001  135.800003  136.460007  136.460007   \n",
       "2019-07-10  137.130005  138.580002  137.020004  137.850006  137.850006   \n",
       "2019-07-11  138.199997  139.220001  137.869995  138.399994  138.399994   \n",
       "2019-07-12  138.850006  139.130005  138.009995  138.899994  138.899994   \n",
       "\n",
       "              Volume        MA10      MA50  Shares      Close1    Profit  \\\n",
       "Date                                                                       \n",
       "2019-07-08  16779700  135.698999  129.8700       1  136.460007 -0.500000   \n",
       "2019-07-09  19953100  135.567000  130.0014       1  137.850006  1.389999   \n",
       "2019-07-10  24204400  136.009001  130.1630       1  138.399994  0.549988   \n",
       "2019-07-11  22327900  136.456001  130.3190       1  138.899994  0.500000   \n",
       "2019-07-12  18933900  136.931001  130.5394       1         NaN       NaN   \n",
       "\n",
       "               wealth  \n",
       "Date                   \n",
       "2019-07-08  65.360025  \n",
       "2019-07-09  66.750024  \n",
       "2019-07-10  67.300012  \n",
       "2019-07-11  67.800012  \n",
       "2019-07-12        NaN  "
      ]
     },
     "execution_count": 114,
     "metadata": {},
     "output_type": "execute_result"
    }
   ],
   "source": [
    "#Use .cumsum() to calculate the accumulated wealth over the period\n",
    "ms['wealth'] = ms['Profit'].cumsum()\n",
    "ms.tail()"
   ]
  },
  {
   "cell_type": "code",
   "execution_count": 107,
   "metadata": {},
   "outputs": [
    {
     "data": {
      "text/plain": [
       "Text(0.5, 1.0, 'Total money you win is 67.800012')"
      ]
     },
     "execution_count": 107,
     "metadata": {},
     "output_type": "execute_result"
    },
    {
     "data": {
      "image/png": "[encoded data removed]",
      "text/plain": [
       "<Figure size 432x288 with 1 Axes>"
      ]
     },
     "metadata": {
      "needs_background": "light"
     },
     "output_type": "display_data"
    }
   ],
   "source": [
    "#plot the wealth to show the growth of profit over the period\n",
    "\n",
    "ms['wealth'].plot()\n",
    "plt.title('Total money you win is {}'.format(ms.loc[ms.index[-2], 'wealth']))"
   ]
  },
  {
   "cell_type": "code",
   "execution_count": null,
   "metadata": {},
   "outputs": [],
   "source": []
  }
 ],
 "metadata": {
  "kernelspec": {
   "display_name": "Python 3",
   "language": "python",
   "name": "python3"
  },
  "language_info": {
   "codemirror_mode": {
    "name": "ipython",
    "version": 3
   },
   "file_extension": ".py",
   "mimetype": "text/x-python",
   "name": "python",
   "nbconvert_exporter": "python",
   "pygments_lexer": "ipython3",
   "version": "3.7.3"
  }
 },
 "nbformat": 4,
 "nbformat_minor": 2
}
