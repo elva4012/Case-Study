{
  "nbformat": 4,
  "nbformat_minor": 0,
  "metadata": {
    "kernelspec": {
      "display_name": "Python 3",
      "language": "python",
      "name": "python3"
    },
    "language_info": {
      "codemirror_mode": {
        "name": "ipython",
        "version": 3
      },
      "file_extension": ".py",
      "mimetype": "text/x-python",
      "name": "python",
      "nbconvert_exporter": "python",
      "pygments_lexer": "ipython3",
      "version": "3.7.3"
    },
    "colab": {
      "name": "Case Study 6 - Customer Lifetime Value (CLV).ipynb",
      "provenance": [],
      "collapsed_sections": [],
      "include_colab_link": true
    }
  },
  "cells": [
    {
      "cell_type": "markdown",
      "metadata": {
        "id": "view-in-github",
        "colab_type": "text"
      },
      "source": [
        "<a href=\"https://colab.research.google.com/github/elva4012/Case-Study/blob/master/Case_Study_6_Customer_Lifetime_Value_(CLV).ipynb\" target=\"_parent\"><img src=\"https://colab.research.google.com/assets/colab-badge.svg\" alt=\"Open In Colab\"/></a>"
      ]
    },
    {
      "cell_type": "markdown",
      "metadata": {
        "id": "S-O5GRG6c0H5"
      },
      "source": [
        "# Customer Life Time Value"
      ]
    },
    {
      "cell_type": "code",
      "metadata": {
        "id": "Ing-T-CPiwm_"
      },
      "source": [
        "import pandas as pd\n",
        "import matplotlib.pyplot as plt"
      ],
      "execution_count": 1,
      "outputs": []
    },
    {
      "cell_type": "code",
      "metadata": {
        "id": "QFwbRb-2iwnG",
        "colab": {
          "base_uri": "https://localhost:8080/",
          "height": 210
        },
        "outputId": "1a3bebd2-4d99-43af-8937-fd2210379574"
      },
      "source": [
        "# Uncomment this line if using this notebook locally\n",
        "#df = pd.read_excel('./data/retail/Online Retail.xlsx', sheet_name='Online Retail')\n",
        "\n",
        "file_name = \"https://raw.githubusercontent.com/rajeevratan84/datascienceforbusiness/master/OnlineRetail.xlsx\"\n",
        "df = pd.read_excel(file_name, sheet_name='Online Retail')\n",
        "\n",
        "df.head()"
      ],
      "execution_count": 2,
      "outputs": [
        {
          "output_type": "execute_result",
          "data": {
            "text/html": [
              "<div>\n",
              "<style scoped>\n",
              "    .dataframe tbody tr th:only-of-type {\n",
              "        vertical-align: middle;\n",
              "    }\n",
              "\n",
              "    .dataframe tbody tr th {\n",
              "        vertical-align: top;\n",
              "    }\n",
              "\n",
              "    .dataframe thead th {\n",
              "        text-align: right;\n",
              "    }\n",
              "</style>\n",
              "<table border=\"1\" class=\"dataframe\">\n",
              "  <thead>\n",
              "    <tr style=\"text-align: right;\">\n",
              "      <th></th>\n",
              "      <th>InvoiceNo</th>\n",
              "      <th>StockCode</th>\n",
              "      <th>Description</th>\n",
              "      <th>Quantity</th>\n",
              "      <th>InvoiceDate</th>\n",
              "      <th>UnitPrice</th>\n",
              "      <th>CustomerID</th>\n",
              "      <th>Country</th>\n",
              "    </tr>\n",
              "  </thead>\n",
              "  <tbody>\n",
              "    <tr>\n",
              "      <th>0</th>\n",
              "      <td>536365</td>\n",
              "      <td>85123A</td>\n",
              "      <td>WHITE HANGING HEART T-LIGHT HOLDER</td>\n",
              "      <td>6</td>\n",
              "      <td>2010-12-01 08:26:00</td>\n",
              "      <td>2.55</td>\n",
              "      <td>17850.0</td>\n",
              "      <td>United Kingdom</td>\n",
              "    </tr>\n",
              "    <tr>\n",
              "      <th>1</th>\n",
              "      <td>536365</td>\n",
              "      <td>71053</td>\n",
              "      <td>WHITE METAL LANTERN</td>\n",
              "      <td>6</td>\n",
              "      <td>2010-12-01 08:26:00</td>\n",
              "      <td>3.39</td>\n",
              "      <td>17850.0</td>\n",
              "      <td>United Kingdom</td>\n",
              "    </tr>\n",
              "    <tr>\n",
              "      <th>2</th>\n",
              "      <td>536365</td>\n",
              "      <td>84406B</td>\n",
              "      <td>CREAM CUPID HEARTS COAT HANGER</td>\n",
              "      <td>8</td>\n",
              "      <td>2010-12-01 08:26:00</td>\n",
              "      <td>2.75</td>\n",
              "      <td>17850.0</td>\n",
              "      <td>United Kingdom</td>\n",
              "    </tr>\n",
              "    <tr>\n",
              "      <th>3</th>\n",
              "      <td>536365</td>\n",
              "      <td>84029G</td>\n",
              "      <td>KNITTED UNION FLAG HOT WATER BOTTLE</td>\n",
              "      <td>6</td>\n",
              "      <td>2010-12-01 08:26:00</td>\n",
              "      <td>3.39</td>\n",
              "      <td>17850.0</td>\n",
              "      <td>United Kingdom</td>\n",
              "    </tr>\n",
              "    <tr>\n",
              "      <th>4</th>\n",
              "      <td>536365</td>\n",
              "      <td>84029E</td>\n",
              "      <td>RED WOOLLY HOTTIE WHITE HEART.</td>\n",
              "      <td>6</td>\n",
              "      <td>2010-12-01 08:26:00</td>\n",
              "      <td>3.39</td>\n",
              "      <td>17850.0</td>\n",
              "      <td>United Kingdom</td>\n",
              "    </tr>\n",
              "  </tbody>\n",
              "</table>\n",
              "</div>"
            ],
            "text/plain": [
              "  InvoiceNo StockCode  ... CustomerID         Country\n",
              "0    536365    85123A  ...    17850.0  United Kingdom\n",
              "1    536365     71053  ...    17850.0  United Kingdom\n",
              "2    536365    84406B  ...    17850.0  United Kingdom\n",
              "3    536365    84029G  ...    17850.0  United Kingdom\n",
              "4    536365    84029E  ...    17850.0  United Kingdom\n",
              "\n",
              "[5 rows x 8 columns]"
            ]
          },
          "metadata": {
            "tags": []
          },
          "execution_count": 2
        }
      ]
    },
    {
      "cell_type": "code",
      "metadata": {
        "id": "pRzLcCMIiwnN",
        "colab": {
          "base_uri": "https://localhost:8080/"
        },
        "outputId": "92ae1d2d-9004-4da6-b60f-dc7edb37cf01"
      },
      "source": [
        "df.shape"
      ],
      "execution_count": 3,
      "outputs": [
        {
          "output_type": "execute_result",
          "data": {
            "text/plain": [
              "(541909, 8)"
            ]
          },
          "metadata": {
            "tags": []
          },
          "execution_count": 3
        }
      ]
    },
    {
      "cell_type": "markdown",
      "metadata": {
        "id": "e9MZDrW3jeHa"
      },
      "source": [
        "This is a large dataset"
      ]
    },
    {
      "cell_type": "code",
      "metadata": {
        "id": "BrjkOFBdiwnT"
      },
      "source": [
        "# Remove quantities that are less than 0 (possibly returned items)\n",
        "df = df.loc[df['Quantity'] > 0]"
      ],
      "execution_count": 4,
      "outputs": []
    },
    {
      "cell_type": "code",
      "metadata": {
        "id": "AmbYpkKQiwnW"
      },
      "source": [
        "# Remove blank customer IDs\n",
        "df = df[pd.notnull(df['CustomerID'])]"
      ],
      "execution_count": 5,
      "outputs": []
    },
    {
      "cell_type": "code",
      "metadata": {
        "id": "LfQz7k1KiwnZ",
        "colab": {
          "base_uri": "https://localhost:8080/"
        },
        "outputId": "a2651d05-228e-47cf-b2b0-5a6e26b46333"
      },
      "source": [
        "# View our data range\n",
        "print('Date Range: %s to %s' % (df['InvoiceDate'].min(), df['InvoiceDate'].max()))"
      ],
      "execution_count": 6,
      "outputs": [
        {
          "output_type": "stream",
          "text": [
            "Date Range: 2010-12-01 08:26:00 to 2011-12-09 12:50:00\n"
          ],
          "name": "stdout"
        }
      ]
    },
    {
      "cell_type": "code",
      "metadata": {
        "id": "VfycwOcaiwqI"
      },
      "source": [
        "# taking all of the transactions that occurred before December 01, 2011 \n",
        "df = df.loc[df['InvoiceDate'] < '2011-12-01']"
      ],
      "execution_count": 7,
      "outputs": []
    },
    {
      "cell_type": "code",
      "metadata": {
        "id": "90GQlX-NiwqL"
      },
      "source": [
        "# Create a Sales Revenue Column\n",
        "df['Sales'] = df['Quantity'] * df['UnitPrice']"
      ],
      "execution_count": 8,
      "outputs": []
    },
    {
      "cell_type": "code",
      "metadata": {
        "id": "btbKr9WpiwqQ"
      },
      "source": [
        "# Get a orders summary dataset that shows the total in sales made per customer invoice\n",
        "orders_df = df.groupby(['CustomerID', 'InvoiceNo']).agg({'Sales': sum,'InvoiceDate': max})"
      ],
      "execution_count": 13,
      "outputs": []
    },
    {
      "cell_type": "code",
      "metadata": {
        "id": "fKLA_05TiwqS",
        "colab": {
          "base_uri": "https://localhost:8080/",
          "height": 402
        },
        "outputId": "d9a92272-c53f-42e6-efc7-04da7f951187"
      },
      "source": [
        "orders_df.head(10)"
      ],
      "execution_count": 14,
      "outputs": [
        {
          "output_type": "execute_result",
          "data": {
            "text/html": [
              "<div>\n",
              "<style scoped>\n",
              "    .dataframe tbody tr th:only-of-type {\n",
              "        vertical-align: middle;\n",
              "    }\n",
              "\n",
              "    .dataframe tbody tr th {\n",
              "        vertical-align: top;\n",
              "    }\n",
              "\n",
              "    .dataframe thead th {\n",
              "        text-align: right;\n",
              "    }\n",
              "</style>\n",
              "<table border=\"1\" class=\"dataframe\">\n",
              "  <thead>\n",
              "    <tr style=\"text-align: right;\">\n",
              "      <th></th>\n",
              "      <th></th>\n",
              "      <th>Sales</th>\n",
              "      <th>InvoiceDate</th>\n",
              "    </tr>\n",
              "    <tr>\n",
              "      <th>CustomerID</th>\n",
              "      <th>InvoiceNo</th>\n",
              "      <th></th>\n",
              "      <th></th>\n",
              "    </tr>\n",
              "  </thead>\n",
              "  <tbody>\n",
              "    <tr>\n",
              "      <th>12346.0</th>\n",
              "      <th>541431</th>\n",
              "      <td>77183.60</td>\n",
              "      <td>2011-01-18 10:01:00</td>\n",
              "    </tr>\n",
              "    <tr>\n",
              "      <th rowspan=\"6\" valign=\"top\">12347.0</th>\n",
              "      <th>537626</th>\n",
              "      <td>711.79</td>\n",
              "      <td>2010-12-07 14:57:00</td>\n",
              "    </tr>\n",
              "    <tr>\n",
              "      <th>542237</th>\n",
              "      <td>475.39</td>\n",
              "      <td>2011-01-26 14:30:00</td>\n",
              "    </tr>\n",
              "    <tr>\n",
              "      <th>549222</th>\n",
              "      <td>636.25</td>\n",
              "      <td>2011-04-07 10:43:00</td>\n",
              "    </tr>\n",
              "    <tr>\n",
              "      <th>556201</th>\n",
              "      <td>382.52</td>\n",
              "      <td>2011-06-09 13:01:00</td>\n",
              "    </tr>\n",
              "    <tr>\n",
              "      <th>562032</th>\n",
              "      <td>584.91</td>\n",
              "      <td>2011-08-02 08:48:00</td>\n",
              "    </tr>\n",
              "    <tr>\n",
              "      <th>573511</th>\n",
              "      <td>1294.32</td>\n",
              "      <td>2011-10-31 12:25:00</td>\n",
              "    </tr>\n",
              "    <tr>\n",
              "      <th rowspan=\"3\" valign=\"top\">12348.0</th>\n",
              "      <th>539318</th>\n",
              "      <td>892.80</td>\n",
              "      <td>2010-12-16 19:09:00</td>\n",
              "    </tr>\n",
              "    <tr>\n",
              "      <th>541998</th>\n",
              "      <td>227.44</td>\n",
              "      <td>2011-01-25 10:42:00</td>\n",
              "    </tr>\n",
              "    <tr>\n",
              "      <th>548955</th>\n",
              "      <td>367.00</td>\n",
              "      <td>2011-04-05 10:47:00</td>\n",
              "    </tr>\n",
              "  </tbody>\n",
              "</table>\n",
              "</div>"
            ],
            "text/plain": [
              "                         Sales         InvoiceDate\n",
              "CustomerID InvoiceNo                              \n",
              "12346.0    541431     77183.60 2011-01-18 10:01:00\n",
              "12347.0    537626       711.79 2010-12-07 14:57:00\n",
              "           542237       475.39 2011-01-26 14:30:00\n",
              "           549222       636.25 2011-04-07 10:43:00\n",
              "           556201       382.52 2011-06-09 13:01:00\n",
              "           562032       584.91 2011-08-02 08:48:00\n",
              "           573511      1294.32 2011-10-31 12:25:00\n",
              "12348.0    539318       892.80 2010-12-16 19:09:00\n",
              "           541998       227.44 2011-01-25 10:42:00\n",
              "           548955       367.00 2011-04-05 10:47:00"
            ]
          },
          "metadata": {
            "tags": []
          },
          "execution_count": 14
        }
      ]
    },
    {
      "cell_type": "code",
      "metadata": {
        "id": "0e73UEPRiwqV"
      },
      "source": [
        "# Create some simple functions we'll be using to create our summary dataframe\n",
        "\n",
        "def groupby_mean(x):\n",
        "    return x.mean()\n",
        "\n",
        "def groupby_count(x):\n",
        "    return x.count()\n",
        "\n",
        "def purchase_duration(x):\n",
        "    return (x.max() - x.min()).days\n",
        "\n",
        "def avg_frequency(x):\n",
        "    '''returns the average days between sales'''\n",
        "    return (x.max() - x.min()).days/x.count()\n",
        "\n",
        "groupby_mean.__name__ = 'avg'\n",
        "groupby_count.__name__ = 'count'\n",
        "purchase_duration.__name__ = 'purchase_duration'\n",
        "avg_frequency.__name__ = 'purchase_frequency'\n",
        "\n",
        "summary_df = orders_df.reset_index().groupby('CustomerID').agg({\n",
        "    'Sales': [min, max, sum, groupby_mean, groupby_count],\n",
        "    'InvoiceDate': [min, max, purchase_duration, avg_frequency]\n",
        "})"
      ],
      "execution_count": 15,
      "outputs": []
    },
    {
      "cell_type": "code",
      "metadata": {
        "id": "NuccuQqAiwqY",
        "colab": {
          "base_uri": "https://localhost:8080/",
          "height": 274
        },
        "outputId": "68a953aa-4cae-45c6-a219-59676182f147"
      },
      "source": [
        "summary_df.head()"
      ],
      "execution_count": 16,
      "outputs": [
        {
          "output_type": "execute_result",
          "data": {
            "text/html": [
              "<div>\n",
              "<style scoped>\n",
              "    .dataframe tbody tr th:only-of-type {\n",
              "        vertical-align: middle;\n",
              "    }\n",
              "\n",
              "    .dataframe tbody tr th {\n",
              "        vertical-align: top;\n",
              "    }\n",
              "\n",
              "    .dataframe thead tr th {\n",
              "        text-align: left;\n",
              "    }\n",
              "\n",
              "    .dataframe thead tr:last-of-type th {\n",
              "        text-align: right;\n",
              "    }\n",
              "</style>\n",
              "<table border=\"1\" class=\"dataframe\">\n",
              "  <thead>\n",
              "    <tr>\n",
              "      <th></th>\n",
              "      <th colspan=\"5\" halign=\"left\">Sales</th>\n",
              "      <th colspan=\"4\" halign=\"left\">InvoiceDate</th>\n",
              "    </tr>\n",
              "    <tr>\n",
              "      <th></th>\n",
              "      <th>min</th>\n",
              "      <th>max</th>\n",
              "      <th>sum</th>\n",
              "      <th>avg</th>\n",
              "      <th>count</th>\n",
              "      <th>min</th>\n",
              "      <th>max</th>\n",
              "      <th>purchase_duration</th>\n",
              "      <th>purchase_frequency</th>\n",
              "    </tr>\n",
              "    <tr>\n",
              "      <th>CustomerID</th>\n",
              "      <th></th>\n",
              "      <th></th>\n",
              "      <th></th>\n",
              "      <th></th>\n",
              "      <th></th>\n",
              "      <th></th>\n",
              "      <th></th>\n",
              "      <th></th>\n",
              "      <th></th>\n",
              "    </tr>\n",
              "  </thead>\n",
              "  <tbody>\n",
              "    <tr>\n",
              "      <th>12346.0</th>\n",
              "      <td>77183.60</td>\n",
              "      <td>77183.60</td>\n",
              "      <td>77183.60</td>\n",
              "      <td>77183.600000</td>\n",
              "      <td>1.0</td>\n",
              "      <td>2011-01-18 10:01:00</td>\n",
              "      <td>2011-01-18 10:01:00</td>\n",
              "      <td>0</td>\n",
              "      <td>0.0</td>\n",
              "    </tr>\n",
              "    <tr>\n",
              "      <th>12347.0</th>\n",
              "      <td>382.52</td>\n",
              "      <td>1294.32</td>\n",
              "      <td>4085.18</td>\n",
              "      <td>680.863333</td>\n",
              "      <td>6.0</td>\n",
              "      <td>2010-12-07 14:57:00</td>\n",
              "      <td>2011-10-31 12:25:00</td>\n",
              "      <td>327</td>\n",
              "      <td>54.5</td>\n",
              "    </tr>\n",
              "    <tr>\n",
              "      <th>12348.0</th>\n",
              "      <td>227.44</td>\n",
              "      <td>892.80</td>\n",
              "      <td>1797.24</td>\n",
              "      <td>449.310000</td>\n",
              "      <td>4.0</td>\n",
              "      <td>2010-12-16 19:09:00</td>\n",
              "      <td>2011-09-25 13:13:00</td>\n",
              "      <td>282</td>\n",
              "      <td>70.5</td>\n",
              "    </tr>\n",
              "    <tr>\n",
              "      <th>12349.0</th>\n",
              "      <td>1757.55</td>\n",
              "      <td>1757.55</td>\n",
              "      <td>1757.55</td>\n",
              "      <td>1757.550000</td>\n",
              "      <td>1.0</td>\n",
              "      <td>2011-11-21 09:51:00</td>\n",
              "      <td>2011-11-21 09:51:00</td>\n",
              "      <td>0</td>\n",
              "      <td>0.0</td>\n",
              "    </tr>\n",
              "    <tr>\n",
              "      <th>12350.0</th>\n",
              "      <td>334.40</td>\n",
              "      <td>334.40</td>\n",
              "      <td>334.40</td>\n",
              "      <td>334.400000</td>\n",
              "      <td>1.0</td>\n",
              "      <td>2011-02-02 16:01:00</td>\n",
              "      <td>2011-02-02 16:01:00</td>\n",
              "      <td>0</td>\n",
              "      <td>0.0</td>\n",
              "    </tr>\n",
              "  </tbody>\n",
              "</table>\n",
              "</div>"
            ],
            "text/plain": [
              "               Sales            ...       InvoiceDate                   \n",
              "                 min       max  ... purchase_duration purchase_frequency\n",
              "CustomerID                      ...                                     \n",
              "12346.0     77183.60  77183.60  ...                 0                0.0\n",
              "12347.0       382.52   1294.32  ...               327               54.5\n",
              "12348.0       227.44    892.80  ...               282               70.5\n",
              "12349.0      1757.55   1757.55  ...                 0                0.0\n",
              "12350.0       334.40    334.40  ...                 0                0.0\n",
              "\n",
              "[5 rows x 9 columns]"
            ]
          },
          "metadata": {
            "tags": []
          },
          "execution_count": 16
        }
      ]
    },
    {
      "cell_type": "code",
      "metadata": {
        "id": "2XdZG2W-iwqc"
      },
      "source": [
        "# Rename our columns by combinng it with the top row\n",
        "summary_df.columns = ['_'.join(col).lower() for col in summary_df.columns]"
      ],
      "execution_count": 17,
      "outputs": []
    },
    {
      "cell_type": "code",
      "metadata": {
        "id": "yThWPIDLiwqf",
        "colab": {
          "base_uri": "https://localhost:8080/",
          "height": 242
        },
        "outputId": "0a241fba-f73e-42d7-ea67-a03341063e6c"
      },
      "source": [
        "summary_df.head()"
      ],
      "execution_count": 18,
      "outputs": [
        {
          "output_type": "execute_result",
          "data": {
            "text/html": [
              "<div>\n",
              "<style scoped>\n",
              "    .dataframe tbody tr th:only-of-type {\n",
              "        vertical-align: middle;\n",
              "    }\n",
              "\n",
              "    .dataframe tbody tr th {\n",
              "        vertical-align: top;\n",
              "    }\n",
              "\n",
              "    .dataframe thead th {\n",
              "        text-align: right;\n",
              "    }\n",
              "</style>\n",
              "<table border=\"1\" class=\"dataframe\">\n",
              "  <thead>\n",
              "    <tr style=\"text-align: right;\">\n",
              "      <th></th>\n",
              "      <th>sales_min</th>\n",
              "      <th>sales_max</th>\n",
              "      <th>sales_sum</th>\n",
              "      <th>sales_avg</th>\n",
              "      <th>sales_count</th>\n",
              "      <th>invoicedate_min</th>\n",
              "      <th>invoicedate_max</th>\n",
              "      <th>invoicedate_purchase_duration</th>\n",
              "      <th>invoicedate_purchase_frequency</th>\n",
              "    </tr>\n",
              "    <tr>\n",
              "      <th>CustomerID</th>\n",
              "      <th></th>\n",
              "      <th></th>\n",
              "      <th></th>\n",
              "      <th></th>\n",
              "      <th></th>\n",
              "      <th></th>\n",
              "      <th></th>\n",
              "      <th></th>\n",
              "      <th></th>\n",
              "    </tr>\n",
              "  </thead>\n",
              "  <tbody>\n",
              "    <tr>\n",
              "      <th>12346.0</th>\n",
              "      <td>77183.60</td>\n",
              "      <td>77183.60</td>\n",
              "      <td>77183.60</td>\n",
              "      <td>77183.600000</td>\n",
              "      <td>1.0</td>\n",
              "      <td>2011-01-18 10:01:00</td>\n",
              "      <td>2011-01-18 10:01:00</td>\n",
              "      <td>0</td>\n",
              "      <td>0.0</td>\n",
              "    </tr>\n",
              "    <tr>\n",
              "      <th>12347.0</th>\n",
              "      <td>382.52</td>\n",
              "      <td>1294.32</td>\n",
              "      <td>4085.18</td>\n",
              "      <td>680.863333</td>\n",
              "      <td>6.0</td>\n",
              "      <td>2010-12-07 14:57:00</td>\n",
              "      <td>2011-10-31 12:25:00</td>\n",
              "      <td>327</td>\n",
              "      <td>54.5</td>\n",
              "    </tr>\n",
              "    <tr>\n",
              "      <th>12348.0</th>\n",
              "      <td>227.44</td>\n",
              "      <td>892.80</td>\n",
              "      <td>1797.24</td>\n",
              "      <td>449.310000</td>\n",
              "      <td>4.0</td>\n",
              "      <td>2010-12-16 19:09:00</td>\n",
              "      <td>2011-09-25 13:13:00</td>\n",
              "      <td>282</td>\n",
              "      <td>70.5</td>\n",
              "    </tr>\n",
              "    <tr>\n",
              "      <th>12349.0</th>\n",
              "      <td>1757.55</td>\n",
              "      <td>1757.55</td>\n",
              "      <td>1757.55</td>\n",
              "      <td>1757.550000</td>\n",
              "      <td>1.0</td>\n",
              "      <td>2011-11-21 09:51:00</td>\n",
              "      <td>2011-11-21 09:51:00</td>\n",
              "      <td>0</td>\n",
              "      <td>0.0</td>\n",
              "    </tr>\n",
              "    <tr>\n",
              "      <th>12350.0</th>\n",
              "      <td>334.40</td>\n",
              "      <td>334.40</td>\n",
              "      <td>334.40</td>\n",
              "      <td>334.400000</td>\n",
              "      <td>1.0</td>\n",
              "      <td>2011-02-02 16:01:00</td>\n",
              "      <td>2011-02-02 16:01:00</td>\n",
              "      <td>0</td>\n",
              "      <td>0.0</td>\n",
              "    </tr>\n",
              "  </tbody>\n",
              "</table>\n",
              "</div>"
            ],
            "text/plain": [
              "            sales_min  ...  invoicedate_purchase_frequency\n",
              "CustomerID             ...                                \n",
              "12346.0      77183.60  ...                             0.0\n",
              "12347.0        382.52  ...                            54.5\n",
              "12348.0        227.44  ...                            70.5\n",
              "12349.0       1757.55  ...                             0.0\n",
              "12350.0        334.40  ...                             0.0\n",
              "\n",
              "[5 rows x 9 columns]"
            ]
          },
          "metadata": {
            "tags": []
          },
          "execution_count": 18
        }
      ]
    },
    {
      "cell_type": "markdown",
      "metadata": {
        "id": "bvlk1j_Yd7bQ"
      },
      "source": [
        "## Visualization "
      ]
    },
    {
      "cell_type": "code",
      "metadata": {
        "id": "5kZfIAxhjXXr",
        "colab": {
          "base_uri": "https://localhost:8080/"
        },
        "outputId": "3bad9b5b-76a0-47d0-99d1-069ed05978f2"
      },
      "source": [
        "# Let's look at the first 20 sales counts and the average spend for that sale\n",
        "\n",
        "# We firstly group by Sales_Counts and then look at the sales_avg \n",
        "summary_df.groupby('sales_count').count()['sales_avg'][:20]"
      ],
      "execution_count": 19,
      "outputs": [
        {
          "output_type": "execute_result",
          "data": {
            "text/plain": [
              "sales_count\n",
              "1.0     1539\n",
              "2.0      806\n",
              "3.0      515\n",
              "4.0      381\n",
              "5.0      228\n",
              "6.0      172\n",
              "7.0      132\n",
              "8.0       97\n",
              "9.0       60\n",
              "10.0      45\n",
              "11.0      54\n",
              "12.0      47\n",
              "13.0      29\n",
              "14.0      19\n",
              "15.0      24\n",
              "16.0      13\n",
              "17.0      15\n",
              "18.0      11\n",
              "19.0      15\n",
              "20.0      10\n",
              "Name: sales_avg, dtype: int64"
            ]
          },
          "metadata": {
            "tags": []
          },
          "execution_count": 19
        }
      ]
    },
    {
      "cell_type": "code",
      "metadata": {
        "id": "akRUdf9iey4j",
        "colab": {
          "base_uri": "https://localhost:8080/",
          "height": 466
        },
        "outputId": "cf6b6e17-c267-4d10-8aa6-3c6ec041b157"
      },
      "source": [
        "summary_df = summary_df.loc[summary_df['invoicedate_purchase_duration'] > 0]\n",
        "summary_df"
      ],
      "execution_count": 20,
      "outputs": [
        {
          "output_type": "execute_result",
          "data": {
            "text/html": [
              "<div>\n",
              "<style scoped>\n",
              "    .dataframe tbody tr th:only-of-type {\n",
              "        vertical-align: middle;\n",
              "    }\n",
              "\n",
              "    .dataframe tbody tr th {\n",
              "        vertical-align: top;\n",
              "    }\n",
              "\n",
              "    .dataframe thead th {\n",
              "        text-align: right;\n",
              "    }\n",
              "</style>\n",
              "<table border=\"1\" class=\"dataframe\">\n",
              "  <thead>\n",
              "    <tr style=\"text-align: right;\">\n",
              "      <th></th>\n",
              "      <th>sales_min</th>\n",
              "      <th>sales_max</th>\n",
              "      <th>sales_sum</th>\n",
              "      <th>sales_avg</th>\n",
              "      <th>sales_count</th>\n",
              "      <th>invoicedate_min</th>\n",
              "      <th>invoicedate_max</th>\n",
              "      <th>invoicedate_purchase_duration</th>\n",
              "      <th>invoicedate_purchase_frequency</th>\n",
              "    </tr>\n",
              "    <tr>\n",
              "      <th>CustomerID</th>\n",
              "      <th></th>\n",
              "      <th></th>\n",
              "      <th></th>\n",
              "      <th></th>\n",
              "      <th></th>\n",
              "      <th></th>\n",
              "      <th></th>\n",
              "      <th></th>\n",
              "      <th></th>\n",
              "    </tr>\n",
              "  </thead>\n",
              "  <tbody>\n",
              "    <tr>\n",
              "      <th>12347.0</th>\n",
              "      <td>382.52</td>\n",
              "      <td>1294.32</td>\n",
              "      <td>4085.18</td>\n",
              "      <td>680.863333</td>\n",
              "      <td>6.0</td>\n",
              "      <td>2010-12-07 14:57:00</td>\n",
              "      <td>2011-10-31 12:25:00</td>\n",
              "      <td>327</td>\n",
              "      <td>54.500000</td>\n",
              "    </tr>\n",
              "    <tr>\n",
              "      <th>12348.0</th>\n",
              "      <td>227.44</td>\n",
              "      <td>892.80</td>\n",
              "      <td>1797.24</td>\n",
              "      <td>449.310000</td>\n",
              "      <td>4.0</td>\n",
              "      <td>2010-12-16 19:09:00</td>\n",
              "      <td>2011-09-25 13:13:00</td>\n",
              "      <td>282</td>\n",
              "      <td>70.500000</td>\n",
              "    </tr>\n",
              "    <tr>\n",
              "      <th>12352.0</th>\n",
              "      <td>120.33</td>\n",
              "      <td>840.30</td>\n",
              "      <td>2506.04</td>\n",
              "      <td>313.255000</td>\n",
              "      <td>8.0</td>\n",
              "      <td>2011-02-16 12:33:00</td>\n",
              "      <td>2011-11-03 14:37:00</td>\n",
              "      <td>260</td>\n",
              "      <td>32.500000</td>\n",
              "    </tr>\n",
              "    <tr>\n",
              "      <th>12356.0</th>\n",
              "      <td>58.35</td>\n",
              "      <td>2271.62</td>\n",
              "      <td>2811.43</td>\n",
              "      <td>937.143333</td>\n",
              "      <td>3.0</td>\n",
              "      <td>2011-01-18 09:50:00</td>\n",
              "      <td>2011-11-17 08:40:00</td>\n",
              "      <td>302</td>\n",
              "      <td>100.666667</td>\n",
              "    </tr>\n",
              "    <tr>\n",
              "      <th>12359.0</th>\n",
              "      <td>547.50</td>\n",
              "      <td>2876.85</td>\n",
              "      <td>6372.58</td>\n",
              "      <td>1593.145000</td>\n",
              "      <td>4.0</td>\n",
              "      <td>2011-01-12 12:43:00</td>\n",
              "      <td>2011-10-13 12:47:00</td>\n",
              "      <td>274</td>\n",
              "      <td>68.500000</td>\n",
              "    </tr>\n",
              "    <tr>\n",
              "      <th>...</th>\n",
              "      <td>...</td>\n",
              "      <td>...</td>\n",
              "      <td>...</td>\n",
              "      <td>...</td>\n",
              "      <td>...</td>\n",
              "      <td>...</td>\n",
              "      <td>...</td>\n",
              "      <td>...</td>\n",
              "      <td>...</td>\n",
              "    </tr>\n",
              "    <tr>\n",
              "      <th>18270.0</th>\n",
              "      <td>111.95</td>\n",
              "      <td>171.20</td>\n",
              "      <td>283.15</td>\n",
              "      <td>141.575000</td>\n",
              "      <td>2.0</td>\n",
              "      <td>2011-03-18 12:41:00</td>\n",
              "      <td>2011-11-01 13:57:00</td>\n",
              "      <td>228</td>\n",
              "      <td>114.000000</td>\n",
              "    </tr>\n",
              "    <tr>\n",
              "      <th>18272.0</th>\n",
              "      <td>340.72</td>\n",
              "      <td>753.66</td>\n",
              "      <td>2710.70</td>\n",
              "      <td>542.140000</td>\n",
              "      <td>5.0</td>\n",
              "      <td>2011-04-07 09:35:00</td>\n",
              "      <td>2011-10-25 11:52:00</td>\n",
              "      <td>201</td>\n",
              "      <td>40.200000</td>\n",
              "    </tr>\n",
              "    <tr>\n",
              "      <th>18273.0</th>\n",
              "      <td>51.00</td>\n",
              "      <td>102.00</td>\n",
              "      <td>153.00</td>\n",
              "      <td>76.500000</td>\n",
              "      <td>2.0</td>\n",
              "      <td>2011-03-27 11:22:00</td>\n",
              "      <td>2011-09-05 11:27:00</td>\n",
              "      <td>162</td>\n",
              "      <td>81.000000</td>\n",
              "    </tr>\n",
              "    <tr>\n",
              "      <th>18283.0</th>\n",
              "      <td>1.95</td>\n",
              "      <td>313.65</td>\n",
              "      <td>1886.88</td>\n",
              "      <td>125.792000</td>\n",
              "      <td>15.0</td>\n",
              "      <td>2011-01-06 14:14:00</td>\n",
              "      <td>2011-11-30 12:59:00</td>\n",
              "      <td>327</td>\n",
              "      <td>21.800000</td>\n",
              "    </tr>\n",
              "    <tr>\n",
              "      <th>18287.0</th>\n",
              "      <td>70.68</td>\n",
              "      <td>1001.32</td>\n",
              "      <td>1837.28</td>\n",
              "      <td>612.426667</td>\n",
              "      <td>3.0</td>\n",
              "      <td>2011-05-22 10:39:00</td>\n",
              "      <td>2011-10-28 09:29:00</td>\n",
              "      <td>158</td>\n",
              "      <td>52.666667</td>\n",
              "    </tr>\n",
              "  </tbody>\n",
              "</table>\n",
              "<p>2692 rows × 9 columns</p>\n",
              "</div>"
            ],
            "text/plain": [
              "            sales_min  ...  invoicedate_purchase_frequency\n",
              "CustomerID             ...                                \n",
              "12347.0        382.52  ...                       54.500000\n",
              "12348.0        227.44  ...                       70.500000\n",
              "12352.0        120.33  ...                       32.500000\n",
              "12356.0         58.35  ...                      100.666667\n",
              "12359.0        547.50  ...                       68.500000\n",
              "...               ...  ...                             ...\n",
              "18270.0        111.95  ...                      114.000000\n",
              "18272.0        340.72  ...                       40.200000\n",
              "18273.0         51.00  ...                       81.000000\n",
              "18283.0          1.95  ...                       21.800000\n",
              "18287.0         70.68  ...                       52.666667\n",
              "\n",
              "[2692 rows x 9 columns]"
            ]
          },
          "metadata": {
            "tags": []
          },
          "execution_count": 20
        }
      ]
    },
    {
      "cell_type": "markdown",
      "metadata": {
        "id": "AeqAnW1Tpemz"
      },
      "source": [
        "Because we're trying to get the time between sales (plotted in the next cell). We need to eliminate single purchases. That's what this line does. \n",
        "\n",
        "`summary_df = summary_df.loc[summary_df['invoicedate_purchase_duration'] > 0]`\n",
        "\n",
        "Purchase durations that are equal to 0 indicate that only purchase was ever made."
      ]
    },
    {
      "cell_type": "code",
      "metadata": {
        "id": "pPtfdRgXiwqj",
        "colab": {
          "base_uri": "https://localhost:8080/",
          "height": 456
        },
        "outputId": "dfc49c50-63ed-4abd-fea7-8469787a9c5e"
      },
      "source": [
        "# We filter on invoicedate_purchase_duration greater than 0\n",
        "summary_df = summary_df.loc[summary_df['invoicedate_purchase_duration'] > 0]\n",
        "\n",
        "ax = summary_df.groupby('sales_count').count()['sales_avg'][:20].plot(kind='bar', color='skyblue',figsize=(12,7), grid=True)\n",
        "\n",
        "ax.set_ylabel('count')\n",
        "\n",
        "plt.show()"
      ],
      "execution_count": 21,
      "outputs": [
        {
          "output_type": "display_data",
          "data": {
            "image/png": "[encoded data removed]",
            "text/plain": [
              "<Figure size 864x504 with 1 Axes>"
            ]
          },
          "metadata": {
            "tags": [],
            "needs_background": "light"
          }
        }
      ]
    },
    {
      "cell_type": "code",
      "metadata": {
        "id": "LPv2_UvUiwqm",
        "colab": {
          "base_uri": "https://localhost:8080/",
          "height": 442
        },
        "outputId": "7d511aa8-8d71-4e70-a691-4d3f7aa154ac"
      },
      "source": [
        "# Now we create a distribution for the average times between sales\n",
        "ax = summary_df['invoicedate_purchase_frequency'].hist(bins=20, color='skyblue', rwidth=0.7, figsize=(12,7))\n",
        "\n",
        "ax.set_xlabel('avg. number of days between purchases')\n",
        "ax.set_ylabel('count')\n",
        "\n",
        "plt.show()"
      ],
      "execution_count": 22,
      "outputs": [
        {
          "output_type": "display_data",
          "data": {
            "image/png": "[encoded data removed]",
            "text/plain": [
              "<Figure size 864x504 with 1 Axes>"
            ]
          },
          "metadata": {
            "tags": [],
            "needs_background": "light"
          }
        }
      ]
    },
    {
      "cell_type": "markdown",
      "metadata": {
        "id": "nAj-YCbAiwqo"
      },
      "source": [
        "# Predicting the 3 month Customer Lifetime Value"
      ]
    },
    {
      "cell_type": "code",
      "metadata": {
        "id": "Rq8fkYcqk8sU",
        "colab": {
          "base_uri": "https://localhost:8080/",
          "height": 242
        },
        "outputId": "95a02dd2-e55d-486b-bf0a-4d938de32a1d"
      },
      "source": [
        "orders_df.head()"
      ],
      "execution_count": 23,
      "outputs": [
        {
          "output_type": "execute_result",
          "data": {
            "text/html": [
              "<div>\n",
              "<style scoped>\n",
              "    .dataframe tbody tr th:only-of-type {\n",
              "        vertical-align: middle;\n",
              "    }\n",
              "\n",
              "    .dataframe tbody tr th {\n",
              "        vertical-align: top;\n",
              "    }\n",
              "\n",
              "    .dataframe thead th {\n",
              "        text-align: right;\n",
              "    }\n",
              "</style>\n",
              "<table border=\"1\" class=\"dataframe\">\n",
              "  <thead>\n",
              "    <tr style=\"text-align: right;\">\n",
              "      <th></th>\n",
              "      <th></th>\n",
              "      <th>Sales</th>\n",
              "      <th>InvoiceDate</th>\n",
              "    </tr>\n",
              "    <tr>\n",
              "      <th>CustomerID</th>\n",
              "      <th>InvoiceNo</th>\n",
              "      <th></th>\n",
              "      <th></th>\n",
              "    </tr>\n",
              "  </thead>\n",
              "  <tbody>\n",
              "    <tr>\n",
              "      <th>12346.0</th>\n",
              "      <th>541431</th>\n",
              "      <td>77183.60</td>\n",
              "      <td>2011-01-18 10:01:00</td>\n",
              "    </tr>\n",
              "    <tr>\n",
              "      <th rowspan=\"4\" valign=\"top\">12347.0</th>\n",
              "      <th>537626</th>\n",
              "      <td>711.79</td>\n",
              "      <td>2010-12-07 14:57:00</td>\n",
              "    </tr>\n",
              "    <tr>\n",
              "      <th>542237</th>\n",
              "      <td>475.39</td>\n",
              "      <td>2011-01-26 14:30:00</td>\n",
              "    </tr>\n",
              "    <tr>\n",
              "      <th>549222</th>\n",
              "      <td>636.25</td>\n",
              "      <td>2011-04-07 10:43:00</td>\n",
              "    </tr>\n",
              "    <tr>\n",
              "      <th>556201</th>\n",
              "      <td>382.52</td>\n",
              "      <td>2011-06-09 13:01:00</td>\n",
              "    </tr>\n",
              "  </tbody>\n",
              "</table>\n",
              "</div>"
            ],
            "text/plain": [
              "                         Sales         InvoiceDate\n",
              "CustomerID InvoiceNo                              \n",
              "12346.0    541431     77183.60 2011-01-18 10:01:00\n",
              "12347.0    537626       711.79 2010-12-07 14:57:00\n",
              "           542237       475.39 2011-01-26 14:30:00\n",
              "           549222       636.25 2011-04-07 10:43:00\n",
              "           556201       382.52 2011-06-09 13:01:00"
            ]
          },
          "metadata": {
            "tags": []
          },
          "execution_count": 23
        }
      ]
    },
    {
      "cell_type": "code",
      "metadata": {
        "id": "uL7RK54Biwqp",
        "colab": {
          "base_uri": "https://localhost:8080/",
          "height": 210
        },
        "outputId": "0ab44924-8ec3-402b-e014-0d7bfc222c14"
      },
      "source": [
        "# Create summary statistics in 3 month intervals for customer Sales\n",
        "\n",
        "# Use 3M for 3 month\n",
        "clv_freq = '3M'\n",
        "\n",
        "# Groupby customer ID now, and group all invoices for 3 month cycles.\n",
        "# Aggregate on sum, mean and counts\n",
        "data_df = orders_df.reset_index().groupby(['CustomerID', pd.Grouper(key='InvoiceDate', freq=clv_freq)]).agg({\n",
        "    'Sales': [sum, groupby_mean, groupby_count],})\n",
        "\n",
        "data_df.columns = ['_'.join(col).lower() for col in data_df.columns]\n",
        "data_df = data_df.reset_index()\n",
        "data_df.head()"
      ],
      "execution_count": 24,
      "outputs": [
        {
          "output_type": "execute_result",
          "data": {
            "text/html": [
              "<div>\n",
              "<style scoped>\n",
              "    .dataframe tbody tr th:only-of-type {\n",
              "        vertical-align: middle;\n",
              "    }\n",
              "\n",
              "    .dataframe tbody tr th {\n",
              "        vertical-align: top;\n",
              "    }\n",
              "\n",
              "    .dataframe thead th {\n",
              "        text-align: right;\n",
              "    }\n",
              "</style>\n",
              "<table border=\"1\" class=\"dataframe\">\n",
              "  <thead>\n",
              "    <tr style=\"text-align: right;\">\n",
              "      <th></th>\n",
              "      <th>CustomerID</th>\n",
              "      <th>InvoiceDate</th>\n",
              "      <th>sales_sum</th>\n",
              "      <th>sales_avg</th>\n",
              "      <th>sales_count</th>\n",
              "    </tr>\n",
              "  </thead>\n",
              "  <tbody>\n",
              "    <tr>\n",
              "      <th>0</th>\n",
              "      <td>12346.0</td>\n",
              "      <td>2011-03-31</td>\n",
              "      <td>77183.60</td>\n",
              "      <td>77183.600</td>\n",
              "      <td>1.0</td>\n",
              "    </tr>\n",
              "    <tr>\n",
              "      <th>1</th>\n",
              "      <td>12347.0</td>\n",
              "      <td>2010-12-31</td>\n",
              "      <td>711.79</td>\n",
              "      <td>711.790</td>\n",
              "      <td>1.0</td>\n",
              "    </tr>\n",
              "    <tr>\n",
              "      <th>2</th>\n",
              "      <td>12347.0</td>\n",
              "      <td>2011-03-31</td>\n",
              "      <td>475.39</td>\n",
              "      <td>475.390</td>\n",
              "      <td>1.0</td>\n",
              "    </tr>\n",
              "    <tr>\n",
              "      <th>3</th>\n",
              "      <td>12347.0</td>\n",
              "      <td>2011-06-30</td>\n",
              "      <td>1018.77</td>\n",
              "      <td>509.385</td>\n",
              "      <td>2.0</td>\n",
              "    </tr>\n",
              "    <tr>\n",
              "      <th>4</th>\n",
              "      <td>12347.0</td>\n",
              "      <td>2011-09-30</td>\n",
              "      <td>584.91</td>\n",
              "      <td>584.910</td>\n",
              "      <td>1.0</td>\n",
              "    </tr>\n",
              "  </tbody>\n",
              "</table>\n",
              "</div>"
            ],
            "text/plain": [
              "   CustomerID InvoiceDate  sales_sum  sales_avg  sales_count\n",
              "0     12346.0  2011-03-31   77183.60  77183.600          1.0\n",
              "1     12347.0  2010-12-31     711.79    711.790          1.0\n",
              "2     12347.0  2011-03-31     475.39    475.390          1.0\n",
              "3     12347.0  2011-06-30    1018.77    509.385          2.0\n",
              "4     12347.0  2011-09-30     584.91    584.910          1.0"
            ]
          },
          "metadata": {
            "tags": []
          },
          "execution_count": 24
        }
      ]
    },
    {
      "cell_type": "code",
      "metadata": {
        "id": "O-3VU10Oiwqv",
        "colab": {
          "base_uri": "https://localhost:8080/",
          "height": 210
        },
        "outputId": "e57b433e-ad69-42df-9943-dba9a1b432b8"
      },
      "source": [
        "# Adding Recency 'M'\n",
        "\n",
        "# Get the M\n",
        "date_month_map = {str(x)[:10]: 'M_%s' % (i+1) for i, x in enumerate(sorted(data_df.reset_index()['InvoiceDate'].unique(), reverse=True))}\n",
        "\n",
        "# Create our M Column\n",
        "data_df['M'] = data_df['InvoiceDate'].apply(lambda x: date_month_map[str(x)[:10]])\n",
        "data_df.head()"
      ],
      "execution_count": 25,
      "outputs": [
        {
          "output_type": "execute_result",
          "data": {
            "text/html": [
              "<div>\n",
              "<style scoped>\n",
              "    .dataframe tbody tr th:only-of-type {\n",
              "        vertical-align: middle;\n",
              "    }\n",
              "\n",
              "    .dataframe tbody tr th {\n",
              "        vertical-align: top;\n",
              "    }\n",
              "\n",
              "    .dataframe thead th {\n",
              "        text-align: right;\n",
              "    }\n",
              "</style>\n",
              "<table border=\"1\" class=\"dataframe\">\n",
              "  <thead>\n",
              "    <tr style=\"text-align: right;\">\n",
              "      <th></th>\n",
              "      <th>CustomerID</th>\n",
              "      <th>InvoiceDate</th>\n",
              "      <th>sales_sum</th>\n",
              "      <th>sales_avg</th>\n",
              "      <th>sales_count</th>\n",
              "      <th>M</th>\n",
              "    </tr>\n",
              "  </thead>\n",
              "  <tbody>\n",
              "    <tr>\n",
              "      <th>0</th>\n",
              "      <td>12346.0</td>\n",
              "      <td>2011-03-31</td>\n",
              "      <td>77183.60</td>\n",
              "      <td>77183.600</td>\n",
              "      <td>1.0</td>\n",
              "      <td>M_4</td>\n",
              "    </tr>\n",
              "    <tr>\n",
              "      <th>1</th>\n",
              "      <td>12347.0</td>\n",
              "      <td>2010-12-31</td>\n",
              "      <td>711.79</td>\n",
              "      <td>711.790</td>\n",
              "      <td>1.0</td>\n",
              "      <td>M_5</td>\n",
              "    </tr>\n",
              "    <tr>\n",
              "      <th>2</th>\n",
              "      <td>12347.0</td>\n",
              "      <td>2011-03-31</td>\n",
              "      <td>475.39</td>\n",
              "      <td>475.390</td>\n",
              "      <td>1.0</td>\n",
              "      <td>M_4</td>\n",
              "    </tr>\n",
              "    <tr>\n",
              "      <th>3</th>\n",
              "      <td>12347.0</td>\n",
              "      <td>2011-06-30</td>\n",
              "      <td>1018.77</td>\n",
              "      <td>509.385</td>\n",
              "      <td>2.0</td>\n",
              "      <td>M_3</td>\n",
              "    </tr>\n",
              "    <tr>\n",
              "      <th>4</th>\n",
              "      <td>12347.0</td>\n",
              "      <td>2011-09-30</td>\n",
              "      <td>584.91</td>\n",
              "      <td>584.910</td>\n",
              "      <td>1.0</td>\n",
              "      <td>M_2</td>\n",
              "    </tr>\n",
              "  </tbody>\n",
              "</table>\n",
              "</div>"
            ],
            "text/plain": [
              "   CustomerID InvoiceDate  sales_sum  sales_avg  sales_count    M\n",
              "0     12346.0  2011-03-31   77183.60  77183.600          1.0  M_4\n",
              "1     12347.0  2010-12-31     711.79    711.790          1.0  M_5\n",
              "2     12347.0  2011-03-31     475.39    475.390          1.0  M_4\n",
              "3     12347.0  2011-06-30    1018.77    509.385          2.0  M_3\n",
              "4     12347.0  2011-09-30     584.91    584.910          1.0  M_2"
            ]
          },
          "metadata": {
            "tags": []
          },
          "execution_count": 25
        }
      ]
    },
    {
      "cell_type": "code",
      "metadata": {
        "id": "LH3zIEqeiwqz",
        "colab": {
          "base_uri": "https://localhost:8080/"
        },
        "outputId": "499104a2-3847-4d01-b8c0-d9c6b2459aad"
      },
      "source": [
        "data_df['M'].unique()"
      ],
      "execution_count": 26,
      "outputs": [
        {
          "output_type": "execute_result",
          "data": {
            "text/plain": [
              "array(['M_4', 'M_5', 'M_3', 'M_2', 'M_1'], dtype=object)"
            ]
          },
          "metadata": {
            "tags": []
          },
          "execution_count": 26
        }
      ]
    },
    {
      "cell_type": "markdown",
      "metadata": {
        "id": "YrHDX2xmtoH0"
      },
      "source": [
        "**RFM**\n",
        "\n",
        "By definition, RFM represents:\n",
        "\n",
        "- R(ecency): how recently did customer purchase?\n",
        "- F(rquency): how often do customer purchase?\n",
        "- M(onetary Value): how much do they spend (each time on average)?"
      ]
    },
    {
      "cell_type": "code",
      "metadata": {
        "id": "ukJKMBXViwq6",
        "colab": {
          "base_uri": "https://localhost:8080/",
          "height": 262
        },
        "outputId": "3587a737-9154-44a7-9c96-287a0b6c84bf"
      },
      "source": [
        "# Create our Features DF\n",
        "features_df = pd.pivot_table(data_df.loc[data_df['M'] != 'M_1'], values=['sales_sum', 'sales_avg', 'sales_count'], columns='M', index='CustomerID')\n",
        "\n",
        "features_df.columns = ['_'.join(col) for col in features_df.columns]\n",
        "\n",
        "features_df.head()"
      ],
      "execution_count": 27,
      "outputs": [
        {
          "output_type": "execute_result",
          "data": {
            "text/html": [
              "<div>\n",
              "<style scoped>\n",
              "    .dataframe tbody tr th:only-of-type {\n",
              "        vertical-align: middle;\n",
              "    }\n",
              "\n",
              "    .dataframe tbody tr th {\n",
              "        vertical-align: top;\n",
              "    }\n",
              "\n",
              "    .dataframe thead th {\n",
              "        text-align: right;\n",
              "    }\n",
              "</style>\n",
              "<table border=\"1\" class=\"dataframe\">\n",
              "  <thead>\n",
              "    <tr style=\"text-align: right;\">\n",
              "      <th></th>\n",
              "      <th>sales_avg_M_2</th>\n",
              "      <th>sales_avg_M_3</th>\n",
              "      <th>sales_avg_M_4</th>\n",
              "      <th>sales_avg_M_5</th>\n",
              "      <th>sales_count_M_2</th>\n",
              "      <th>sales_count_M_3</th>\n",
              "      <th>sales_count_M_4</th>\n",
              "      <th>sales_count_M_5</th>\n",
              "      <th>sales_sum_M_2</th>\n",
              "      <th>sales_sum_M_3</th>\n",
              "      <th>sales_sum_M_4</th>\n",
              "      <th>sales_sum_M_5</th>\n",
              "    </tr>\n",
              "    <tr>\n",
              "      <th>CustomerID</th>\n",
              "      <th></th>\n",
              "      <th></th>\n",
              "      <th></th>\n",
              "      <th></th>\n",
              "      <th></th>\n",
              "      <th></th>\n",
              "      <th></th>\n",
              "      <th></th>\n",
              "      <th></th>\n",
              "      <th></th>\n",
              "      <th></th>\n",
              "      <th></th>\n",
              "    </tr>\n",
              "  </thead>\n",
              "  <tbody>\n",
              "    <tr>\n",
              "      <th>12346.0</th>\n",
              "      <td>NaN</td>\n",
              "      <td>NaN</td>\n",
              "      <td>77183.600</td>\n",
              "      <td>NaN</td>\n",
              "      <td>NaN</td>\n",
              "      <td>NaN</td>\n",
              "      <td>1.0</td>\n",
              "      <td>NaN</td>\n",
              "      <td>NaN</td>\n",
              "      <td>NaN</td>\n",
              "      <td>77183.60</td>\n",
              "      <td>NaN</td>\n",
              "    </tr>\n",
              "    <tr>\n",
              "      <th>12347.0</th>\n",
              "      <td>584.91</td>\n",
              "      <td>509.385</td>\n",
              "      <td>475.390</td>\n",
              "      <td>711.79</td>\n",
              "      <td>1.0</td>\n",
              "      <td>2.0</td>\n",
              "      <td>1.0</td>\n",
              "      <td>1.0</td>\n",
              "      <td>584.91</td>\n",
              "      <td>1018.77</td>\n",
              "      <td>475.39</td>\n",
              "      <td>711.79</td>\n",
              "    </tr>\n",
              "    <tr>\n",
              "      <th>12348.0</th>\n",
              "      <td>310.00</td>\n",
              "      <td>367.000</td>\n",
              "      <td>227.440</td>\n",
              "      <td>892.80</td>\n",
              "      <td>1.0</td>\n",
              "      <td>1.0</td>\n",
              "      <td>1.0</td>\n",
              "      <td>1.0</td>\n",
              "      <td>310.00</td>\n",
              "      <td>367.00</td>\n",
              "      <td>227.44</td>\n",
              "      <td>892.80</td>\n",
              "    </tr>\n",
              "    <tr>\n",
              "      <th>12350.0</th>\n",
              "      <td>NaN</td>\n",
              "      <td>NaN</td>\n",
              "      <td>334.400</td>\n",
              "      <td>NaN</td>\n",
              "      <td>NaN</td>\n",
              "      <td>NaN</td>\n",
              "      <td>1.0</td>\n",
              "      <td>NaN</td>\n",
              "      <td>NaN</td>\n",
              "      <td>NaN</td>\n",
              "      <td>334.40</td>\n",
              "      <td>NaN</td>\n",
              "    </tr>\n",
              "    <tr>\n",
              "      <th>12352.0</th>\n",
              "      <td>316.25</td>\n",
              "      <td>NaN</td>\n",
              "      <td>312.362</td>\n",
              "      <td>NaN</td>\n",
              "      <td>2.0</td>\n",
              "      <td>NaN</td>\n",
              "      <td>5.0</td>\n",
              "      <td>NaN</td>\n",
              "      <td>632.50</td>\n",
              "      <td>NaN</td>\n",
              "      <td>1561.81</td>\n",
              "      <td>NaN</td>\n",
              "    </tr>\n",
              "  </tbody>\n",
              "</table>\n",
              "</div>"
            ],
            "text/plain": [
              "            sales_avg_M_2  sales_avg_M_3  ...  sales_sum_M_4  sales_sum_M_5\n",
              "CustomerID                                ...                              \n",
              "12346.0               NaN            NaN  ...       77183.60            NaN\n",
              "12347.0            584.91        509.385  ...         475.39         711.79\n",
              "12348.0            310.00        367.000  ...         227.44         892.80\n",
              "12350.0               NaN            NaN  ...         334.40            NaN\n",
              "12352.0            316.25            NaN  ...        1561.81            NaN\n",
              "\n",
              "[5 rows x 12 columns]"
            ]
          },
          "metadata": {
            "tags": []
          },
          "execution_count": 27
        }
      ]
    },
    {
      "cell_type": "code",
      "metadata": {
        "id": "mGASBDdEiwq-",
        "colab": {
          "base_uri": "https://localhost:8080/",
          "height": 210
        },
        "outputId": "7024ba9d-76de-4f30-d61b-3b9dc3446835"
      },
      "source": [
        "# Create our Response DF\n",
        "response_df = data_df.loc[data_df['M'] == 'M_1', ['CustomerID', 'sales_sum']]\n",
        "\n",
        "response_df.columns = ['CustomerID', 'CLV_'+clv_freq]\n",
        "response_df.head()"
      ],
      "execution_count": 28,
      "outputs": [
        {
          "output_type": "execute_result",
          "data": {
            "text/html": [
              "<div>\n",
              "<style scoped>\n",
              "    .dataframe tbody tr th:only-of-type {\n",
              "        vertical-align: middle;\n",
              "    }\n",
              "\n",
              "    .dataframe tbody tr th {\n",
              "        vertical-align: top;\n",
              "    }\n",
              "\n",
              "    .dataframe thead th {\n",
              "        text-align: right;\n",
              "    }\n",
              "</style>\n",
              "<table border=\"1\" class=\"dataframe\">\n",
              "  <thead>\n",
              "    <tr style=\"text-align: right;\">\n",
              "      <th></th>\n",
              "      <th>CustomerID</th>\n",
              "      <th>CLV_3M</th>\n",
              "    </tr>\n",
              "  </thead>\n",
              "  <tbody>\n",
              "    <tr>\n",
              "      <th>5</th>\n",
              "      <td>12347.0</td>\n",
              "      <td>1294.32</td>\n",
              "    </tr>\n",
              "    <tr>\n",
              "      <th>10</th>\n",
              "      <td>12349.0</td>\n",
              "      <td>1757.55</td>\n",
              "    </tr>\n",
              "    <tr>\n",
              "      <th>14</th>\n",
              "      <td>12352.0</td>\n",
              "      <td>311.73</td>\n",
              "    </tr>\n",
              "    <tr>\n",
              "      <th>20</th>\n",
              "      <td>12356.0</td>\n",
              "      <td>58.35</td>\n",
              "    </tr>\n",
              "    <tr>\n",
              "      <th>21</th>\n",
              "      <td>12357.0</td>\n",
              "      <td>6207.67</td>\n",
              "    </tr>\n",
              "  </tbody>\n",
              "</table>\n",
              "</div>"
            ],
            "text/plain": [
              "    CustomerID   CLV_3M\n",
              "5      12347.0  1294.32\n",
              "10     12349.0  1757.55\n",
              "14     12352.0   311.73\n",
              "20     12356.0    58.35\n",
              "21     12357.0  6207.67"
            ]
          },
          "metadata": {
            "tags": []
          },
          "execution_count": 28
        }
      ]
    },
    {
      "cell_type": "code",
      "metadata": {
        "id": "FbstDoBOiwrA",
        "colab": {
          "base_uri": "https://localhost:8080/",
          "height": 230
        },
        "outputId": "2f414a2a-a645-46fe-b8ed-7933576e0fc7"
      },
      "source": [
        "# Create our Sample Set by merging features with response_df\n",
        "sample_set_df = features_df.merge(\n",
        "    response_df, \n",
        "    left_index=True, \n",
        "    right_on='CustomerID',\n",
        "    how='left'\n",
        ")\n",
        "\n",
        "sample_set_df = sample_set_df.fillna(0)\n",
        "sample_set_df.head()"
      ],
      "execution_count": 29,
      "outputs": [
        {
          "output_type": "execute_result",
          "data": {
            "text/html": [
              "<div>\n",
              "<style scoped>\n",
              "    .dataframe tbody tr th:only-of-type {\n",
              "        vertical-align: middle;\n",
              "    }\n",
              "\n",
              "    .dataframe tbody tr th {\n",
              "        vertical-align: top;\n",
              "    }\n",
              "\n",
              "    .dataframe thead th {\n",
              "        text-align: right;\n",
              "    }\n",
              "</style>\n",
              "<table border=\"1\" class=\"dataframe\">\n",
              "  <thead>\n",
              "    <tr style=\"text-align: right;\">\n",
              "      <th></th>\n",
              "      <th>sales_avg_M_2</th>\n",
              "      <th>sales_avg_M_3</th>\n",
              "      <th>sales_avg_M_4</th>\n",
              "      <th>sales_avg_M_5</th>\n",
              "      <th>sales_count_M_2</th>\n",
              "      <th>sales_count_M_3</th>\n",
              "      <th>sales_count_M_4</th>\n",
              "      <th>sales_count_M_5</th>\n",
              "      <th>sales_sum_M_2</th>\n",
              "      <th>sales_sum_M_3</th>\n",
              "      <th>sales_sum_M_4</th>\n",
              "      <th>sales_sum_M_5</th>\n",
              "      <th>CustomerID</th>\n",
              "      <th>CLV_3M</th>\n",
              "    </tr>\n",
              "  </thead>\n",
              "  <tbody>\n",
              "    <tr>\n",
              "      <th>NaN</th>\n",
              "      <td>0.00</td>\n",
              "      <td>0.000</td>\n",
              "      <td>77183.600</td>\n",
              "      <td>0.00</td>\n",
              "      <td>0.0</td>\n",
              "      <td>0.0</td>\n",
              "      <td>1.0</td>\n",
              "      <td>0.0</td>\n",
              "      <td>0.00</td>\n",
              "      <td>0.00</td>\n",
              "      <td>77183.60</td>\n",
              "      <td>0.00</td>\n",
              "      <td>12346.0</td>\n",
              "      <td>0.00</td>\n",
              "    </tr>\n",
              "    <tr>\n",
              "      <th>5.0</th>\n",
              "      <td>584.91</td>\n",
              "      <td>509.385</td>\n",
              "      <td>475.390</td>\n",
              "      <td>711.79</td>\n",
              "      <td>1.0</td>\n",
              "      <td>2.0</td>\n",
              "      <td>1.0</td>\n",
              "      <td>1.0</td>\n",
              "      <td>584.91</td>\n",
              "      <td>1018.77</td>\n",
              "      <td>475.39</td>\n",
              "      <td>711.79</td>\n",
              "      <td>12347.0</td>\n",
              "      <td>1294.32</td>\n",
              "    </tr>\n",
              "    <tr>\n",
              "      <th>NaN</th>\n",
              "      <td>310.00</td>\n",
              "      <td>367.000</td>\n",
              "      <td>227.440</td>\n",
              "      <td>892.80</td>\n",
              "      <td>1.0</td>\n",
              "      <td>1.0</td>\n",
              "      <td>1.0</td>\n",
              "      <td>1.0</td>\n",
              "      <td>310.00</td>\n",
              "      <td>367.00</td>\n",
              "      <td>227.44</td>\n",
              "      <td>892.80</td>\n",
              "      <td>12348.0</td>\n",
              "      <td>0.00</td>\n",
              "    </tr>\n",
              "    <tr>\n",
              "      <th>NaN</th>\n",
              "      <td>0.00</td>\n",
              "      <td>0.000</td>\n",
              "      <td>334.400</td>\n",
              "      <td>0.00</td>\n",
              "      <td>0.0</td>\n",
              "      <td>0.0</td>\n",
              "      <td>1.0</td>\n",
              "      <td>0.0</td>\n",
              "      <td>0.00</td>\n",
              "      <td>0.00</td>\n",
              "      <td>334.40</td>\n",
              "      <td>0.00</td>\n",
              "      <td>12350.0</td>\n",
              "      <td>0.00</td>\n",
              "    </tr>\n",
              "    <tr>\n",
              "      <th>14.0</th>\n",
              "      <td>316.25</td>\n",
              "      <td>0.000</td>\n",
              "      <td>312.362</td>\n",
              "      <td>0.00</td>\n",
              "      <td>2.0</td>\n",
              "      <td>0.0</td>\n",
              "      <td>5.0</td>\n",
              "      <td>0.0</td>\n",
              "      <td>632.50</td>\n",
              "      <td>0.00</td>\n",
              "      <td>1561.81</td>\n",
              "      <td>0.00</td>\n",
              "      <td>12352.0</td>\n",
              "      <td>311.73</td>\n",
              "    </tr>\n",
              "  </tbody>\n",
              "</table>\n",
              "</div>"
            ],
            "text/plain": [
              "      sales_avg_M_2  sales_avg_M_3  ...  CustomerID   CLV_3M\n",
              "NaN            0.00          0.000  ...     12346.0     0.00\n",
              "5.0          584.91        509.385  ...     12347.0  1294.32\n",
              "NaN          310.00        367.000  ...     12348.0     0.00\n",
              "NaN            0.00          0.000  ...     12350.0     0.00\n",
              "14.0         316.25          0.000  ...     12352.0   311.73\n",
              "\n",
              "[5 rows x 14 columns]"
            ]
          },
          "metadata": {
            "tags": []
          },
          "execution_count": 29
        }
      ]
    },
    {
      "cell_type": "markdown",
      "metadata": {
        "id": "d3Uv53jioMaI"
      },
      "source": [
        "# Using Linear Regression"
      ]
    },
    {
      "cell_type": "code",
      "metadata": {
        "id": "vsKfw9WriwrE",
        "colab": {
          "base_uri": "https://localhost:8080/"
        },
        "outputId": "db70d990-e21b-4d3c-98fc-5c07e1d3a33c"
      },
      "source": [
        "# Linear regression\n",
        "from sklearn.linear_model import LinearRegression\n",
        "from sklearn.model_selection import train_test_split\n",
        "\n",
        "# Our Target Variable\n",
        "target_var = 'CLV_'+clv_freq\n",
        "\n",
        "# Our Features\n",
        "all_features = [x for x in sample_set_df.columns if x not in ['CustomerID', target_var]]\n",
        "\n",
        "# Split data in Train and Test\n",
        "x_train, x_test, y_train, y_test = train_test_split(sample_set_df[all_features], sample_set_df[target_var], test_size=0.3)\n",
        "\n",
        "# Fit Model\n",
        "reg_fit = LinearRegression()\n",
        "reg_fit.fit(x_train, y_train)"
      ],
      "execution_count": 30,
      "outputs": [
        {
          "output_type": "execute_result",
          "data": {
            "text/plain": [
              "LinearRegression(copy_X=True, fit_intercept=True, n_jobs=None, normalize=False)"
            ]
          },
          "metadata": {
            "tags": []
          },
          "execution_count": 30
        }
      ]
    },
    {
      "cell_type": "code",
      "metadata": {
        "id": "WmafmzosiwrI",
        "colab": {
          "base_uri": "https://localhost:8080/"
        },
        "outputId": "bf26ccd3-1a19-4c5c-c40b-766f71be60d8"
      },
      "source": [
        "# Get our y intercept\n",
        "reg_fit.intercept_"
      ],
      "execution_count": 31,
      "outputs": [
        {
          "output_type": "execute_result",
          "data": {
            "text/plain": [
              "47.65999832428133"
            ]
          },
          "metadata": {
            "tags": []
          },
          "execution_count": 31
        }
      ]
    },
    {
      "cell_type": "code",
      "metadata": {
        "id": "LBIAPWL6iwrK",
        "colab": {
          "base_uri": "https://localhost:8080/"
        },
        "outputId": "47c82a03-3d16-420b-ab54-ec69adab451f"
      },
      "source": [
        "# Get our coefficents\n",
        "reg_fit.coef_"
      ],
      "execution_count": 32,
      "outputs": [
        {
          "output_type": "execute_result",
          "data": {
            "text/plain": [
              "array([  0.33862921,  -0.50240178,  -0.19015312,  -0.43117569,\n",
              "        89.79618522,  11.32814536, -96.86543186, -13.769307  ,\n",
              "         0.20941543,   0.37429992,   0.22371003,   0.84821018])"
            ]
          },
          "metadata": {
            "tags": []
          },
          "execution_count": 32
        }
      ]
    },
    {
      "cell_type": "code",
      "metadata": {
        "id": "rc0Qt0M-iwrM",
        "colab": {
          "base_uri": "https://localhost:8080/",
          "height": 434
        },
        "outputId": "d61e6cd2-dfca-4e03-fbd3-d952f5853be1"
      },
      "source": [
        "# Show them here per feature\n",
        "coef = pd.DataFrame(list(zip(all_features, reg_fit.coef_)))\n",
        "coef.columns = ['feature', 'coef']\n",
        "\n",
        "coef"
      ],
      "execution_count": 33,
      "outputs": [
        {
          "output_type": "execute_result",
          "data": {
            "text/html": [
              "<div>\n",
              "<style scoped>\n",
              "    .dataframe tbody tr th:only-of-type {\n",
              "        vertical-align: middle;\n",
              "    }\n",
              "\n",
              "    .dataframe tbody tr th {\n",
              "        vertical-align: top;\n",
              "    }\n",
              "\n",
              "    .dataframe thead th {\n",
              "        text-align: right;\n",
              "    }\n",
              "</style>\n",
              "<table border=\"1\" class=\"dataframe\">\n",
              "  <thead>\n",
              "    <tr style=\"text-align: right;\">\n",
              "      <th></th>\n",
              "      <th>feature</th>\n",
              "      <th>coef</th>\n",
              "    </tr>\n",
              "  </thead>\n",
              "  <tbody>\n",
              "    <tr>\n",
              "      <th>0</th>\n",
              "      <td>sales_avg_M_2</td>\n",
              "      <td>0.338629</td>\n",
              "    </tr>\n",
              "    <tr>\n",
              "      <th>1</th>\n",
              "      <td>sales_avg_M_3</td>\n",
              "      <td>-0.502402</td>\n",
              "    </tr>\n",
              "    <tr>\n",
              "      <th>2</th>\n",
              "      <td>sales_avg_M_4</td>\n",
              "      <td>-0.190153</td>\n",
              "    </tr>\n",
              "    <tr>\n",
              "      <th>3</th>\n",
              "      <td>sales_avg_M_5</td>\n",
              "      <td>-0.431176</td>\n",
              "    </tr>\n",
              "    <tr>\n",
              "      <th>4</th>\n",
              "      <td>sales_count_M_2</td>\n",
              "      <td>89.796185</td>\n",
              "    </tr>\n",
              "    <tr>\n",
              "      <th>5</th>\n",
              "      <td>sales_count_M_3</td>\n",
              "      <td>11.328145</td>\n",
              "    </tr>\n",
              "    <tr>\n",
              "      <th>6</th>\n",
              "      <td>sales_count_M_4</td>\n",
              "      <td>-96.865432</td>\n",
              "    </tr>\n",
              "    <tr>\n",
              "      <th>7</th>\n",
              "      <td>sales_count_M_5</td>\n",
              "      <td>-13.769307</td>\n",
              "    </tr>\n",
              "    <tr>\n",
              "      <th>8</th>\n",
              "      <td>sales_sum_M_2</td>\n",
              "      <td>0.209415</td>\n",
              "    </tr>\n",
              "    <tr>\n",
              "      <th>9</th>\n",
              "      <td>sales_sum_M_3</td>\n",
              "      <td>0.374300</td>\n",
              "    </tr>\n",
              "    <tr>\n",
              "      <th>10</th>\n",
              "      <td>sales_sum_M_4</td>\n",
              "      <td>0.223710</td>\n",
              "    </tr>\n",
              "    <tr>\n",
              "      <th>11</th>\n",
              "      <td>sales_sum_M_5</td>\n",
              "      <td>0.848210</td>\n",
              "    </tr>\n",
              "  </tbody>\n",
              "</table>\n",
              "</div>"
            ],
            "text/plain": [
              "            feature       coef\n",
              "0     sales_avg_M_2   0.338629\n",
              "1     sales_avg_M_3  -0.502402\n",
              "2     sales_avg_M_4  -0.190153\n",
              "3     sales_avg_M_5  -0.431176\n",
              "4   sales_count_M_2  89.796185\n",
              "5   sales_count_M_3  11.328145\n",
              "6   sales_count_M_4 -96.865432\n",
              "7   sales_count_M_5 -13.769307\n",
              "8     sales_sum_M_2   0.209415\n",
              "9     sales_sum_M_3   0.374300\n",
              "10    sales_sum_M_4   0.223710\n",
              "11    sales_sum_M_5   0.848210"
            ]
          },
          "metadata": {
            "tags": []
          },
          "execution_count": 33
        }
      ]
    },
    {
      "cell_type": "code",
      "metadata": {
        "id": "sQj7tVW5iwrN"
      },
      "source": [
        "# Run our input data into our model predictors\n",
        "train_preds = reg_fit.predict(x_train)\n",
        "test_preds = reg_fit.predict(x_test)"
      ],
      "execution_count": 34,
      "outputs": []
    },
    {
      "cell_type": "code",
      "metadata": {
        "id": "oPDYpDNHiwrQ",
        "colab": {
          "base_uri": "https://localhost:8080/"
        },
        "outputId": "80341aff-368c-4e8f-9cfb-d6f89b4ac7c7"
      },
      "source": [
        "# Assess performance Training Data\n",
        "from sklearn.metrics import r2_score, median_absolute_error\n",
        "\n",
        "print(r2_score(y_true=y_train, y_pred=train_preds))\n",
        "print(median_absolute_error(y_true=y_train, y_pred=train_preds))"
      ],
      "execution_count": 35,
      "outputs": [
        {
          "output_type": "stream",
          "text": [
            "0.7335279238412208\n",
            "213.16306966716647\n"
          ],
          "name": "stdout"
        }
      ]
    },
    {
      "cell_type": "code",
      "metadata": {
        "id": "vS-yETOuiwrS",
        "colab": {
          "base_uri": "https://localhost:8080/"
        },
        "outputId": "93b858f5-83af-45ce-8476-2b0edbc13bfb"
      },
      "source": [
        "# Compare R-Squared Performance on Training and Test Datasets\n",
        "print('In-Sample R-Squared: %0.4f' % r2_score(y_true = y_train, y_pred = train_preds))\n",
        "print('Out-of-Sample R-Squared: %0.4f' % r2_score(y_true = y_test, y_pred = test_preds))"
      ],
      "execution_count": 36,
      "outputs": [
        {
          "output_type": "stream",
          "text": [
            "In-Sample R-Squared: 0.7335\n",
            "Out-of-Sample R-Squared: 0.6990\n"
          ],
          "name": "stdout"
        }
      ]
    },
    {
      "cell_type": "code",
      "metadata": {
        "id": "wDWgZJXKiwrU",
        "colab": {
          "base_uri": "https://localhost:8080/"
        },
        "outputId": "2cb00501-6b45-4e29-926b-a50fbcaf6cf5"
      },
      "source": [
        "# Compare MSE on Training and Test Datasets\n",
        "print('In-Sample MSE: %0.4f' % median_absolute_error(y_true = y_train, y_pred = train_preds))\n",
        "print('Out-of-Sample MSE: %0.4f' % median_absolute_error(y_true = y_test, y_pred = test_preds))"
      ],
      "execution_count": 37,
      "outputs": [
        {
          "output_type": "stream",
          "text": [
            "In-Sample MSE: 213.1631\n",
            "Out-of-Sample MSE: 206.2047\n"
          ],
          "name": "stdout"
        }
      ]
    },
    {
      "cell_type": "code",
      "metadata": {
        "id": "6lSxjyr5iwrW",
        "colab": {
          "base_uri": "https://localhost:8080/",
          "height": 295
        },
        "outputId": "c0d0f183-d18a-48cb-a790-dd147e7c7e53"
      },
      "source": [
        "# Plot the predicted vs actual values using our Test Dataset\n",
        "plt.scatter(y_test, test_preds)\n",
        "plt.plot([0, max(y_test)], [0, max(test_preds)], color='gray', lw=1, linestyle='--')\n",
        "\n",
        "plt.xlabel('actual')\n",
        "plt.ylabel('predicted')\n",
        "plt.title('Out-of-Sample Actual vs. Predicted')\n",
        "plt.grid()\n",
        "\n",
        "plt.show()"
      ],
      "execution_count": 38,
      "outputs": [
        {
          "output_type": "display_data",
          "data": {
            "image/png": "[encoded data removed]",
            "text/plain": [
              "<Figure size 432x288 with 1 Axes>"
            ]
          },
          "metadata": {
            "tags": [],
            "needs_background": "light"
          }
        }
      ]
    },
    {
      "cell_type": "code",
      "metadata": {
        "id": "0h2e3UAqqEjU"
      },
      "source": [
        ""
      ],
      "execution_count": 38,
      "outputs": []
    }
  ]
}